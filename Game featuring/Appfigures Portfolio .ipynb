{
 "cells": [
  {
   "cell_type": "markdown",
   "id": "5bfee176",
   "metadata": {},
   "source": [
    "# Tracking App featuring in App Store and Google Play \n",
    "\n",
    "###### 30/10/2022\n",
    "\n",
    "\n",
    "![alt text](https://thumbs.dreamstime.com/b/app-store-games-collection-apple-ipad-air-kiev-ukraine-june-brand-new-modern-white-featured-mobile-apps-41828259.jpg)\n",
    "\n",
    "## 1.Introduction \n",
    "\n",
    "\n",
    "Launching a game globally is not something you get to see often these days, the product has to go through lot before it qualifies to go globally, after launching globally everyone in the game team is interested to see how good is the game performing and how happy with the game are the two main stores, App store and google play. These stores have criteria that might be not always clear on how featuring happens, this criteria includes; optimal crash rates, live events and many other factors that we know and some that we don't know. In this notebook we will track featuring for imaginary game using artificial data and come out with results that will help us improve our product\n",
    "\n",
    "\n",
    "## 2.Problem to solve \n",
    "\n",
    "Tracking of Featuring placements on the stores is usually done using external tools like App figures.com, these are usually helpful but not enough because\n",
    "\n",
    "* **Difficulty in granting access to all team members, since usually these tools charge per specific users numbers**\n",
    "* **Limited functionality and non-flexible charts/tables, in case of app figures you can't access the featuring data for custom periods other than what the website has**\n",
    "* **Putting all the data of the product in the same place makes it easier to do analysis and come up with conclusions to take actions**\n",
    "\n",
    "\n",
    "## 3.Methodology \n",
    "\n",
    "I will call Appfigures API using python script, this script will be scheduled to run daily. Then this data will be cleaned and wrangled and sent to BigQuery as table in dataset then this data will be visualised using data studio.\n",
    "\n",
    "## Data Sources\n",
    "In this notebook I'll be calling appfigures API for the purpose of showing code only NOT using the real data. The data that will be used in the visualization and analysis is 100% fake data that I personally made to mimic real product senario. \n",
    "\n",
    "\n",
    "\n",
    "## Data Cleaning \n",
    "Part of the data wrangling/cleaning will be done using Pandas library to map the data needed from the JSON file we get from AppFigures API, part of the data wrangling/cleaning will be done in BigQuery\n",
    "\n",
    "## Visualization\n",
    "Google data studio (Looker studio) will be used to build the dashboard after putting the data to BQ \n",
    "\n",
    "\n",
    "<br>\n",
    "<br>\n",
    "\n",
    "\n",
    "\n",
    "\n",
    "### Dependencies\n",
    "downloading all dependencies required\n",
    "\n",
    "\n"
   ]
  },
  {
   "cell_type": "code",
   "execution_count": 5,
   "id": "dc1a87a0",
   "metadata": {},
   "outputs": [
    {
     "name": "stdout",
     "output_type": "stream",
     "text": [
      "imported!!\n"
     ]
    }
   ],
   "source": [
    "# Demonstrates using the rauth library to interact with the Appfigures API\n",
    "from rauth import OAuth1Session, OAuth1Service\n",
    "\n",
    "# Library to handle JSON files\n",
    "import json\n",
    "\n",
    "#Data structure library in Python\n",
    "import pandas as pd\n",
    "from datetime import date ,timedelta\n",
    "import pandas_gbq\n",
    "import os\n",
    "from google.cloud import bigquery\n",
    "import pandas as pd \n",
    "import matplotlib.pyplot as plt\n",
    "import seaborn as sns\n",
    "import matplotlib.cm as cm\n",
    "import matplotlib.colors as colors\n",
    "import matplotlib.pyplot as plt\n",
    "%matplotlib inline\n",
    "print(\"imported!!\")"
   ]
  },
  {
   "cell_type": "markdown",
   "id": "d270ac8d",
   "metadata": {},
   "source": [
    "\n",
    "#  Calling AppFigures API for 1 app per call\n",
    "\n",
    "\n",
    "Access the API documentation from [here](https://docs.appfigures.com/api/reference/v2/featured)\n",
    "<br>\n",
    "There are 4 types of reports\n",
    "1. Summary reports\n",
    "2. Full featured reports \n",
    "3. Counts reports count \n",
    "4. History reports\n",
    "\n",
    "For the purpose of this project we will be using the Full report, which should be done separately for each App so Apple and google play separate.\n",
    "\n",
    "\n",
    "### Getting today's date that will be inserted in the GET request "
   ]
  },
  {
   "cell_type": "code",
   "execution_count": 4,
   "id": "8a5fc3f0",
   "metadata": {},
   "outputs": [
    {
     "name": "stdout",
     "output_type": "stream",
     "text": [
      "Today's date: 2022-11-01\n"
     ]
    }
   ],
   "source": [
    "today = date.today()\n",
    "print(\"Today's date:\", today)"
   ]
  },
  {
   "cell_type": "code",
   "execution_count": null,
   "id": "ca871db6",
   "metadata": {},
   "outputs": [],
   "source": [
    "\n",
    "\n",
    "\n",
    "\n",
    "base_url = \"https://api.appfigures.com/v2\"\n",
    "client_key = \"############\"\n",
    "client_secret = \"############\"\n",
    "\n",
    "\n",
    "request_token_url = base_url + \"/oauth/request_token\"\n",
    "authorize_url = base_url + \"/oauth/authorize\"\n",
    "access_token_url = base_url + \"/oauth/access_token\"\n",
    "\n",
    "def get_service():\n",
    "  \"\"\" Returns an OAuthService configured for us \"\"\"\n",
    "  return OAuth1Service(name=\"appfigures\",\n",
    "                        consumer_key=client_key,\n",
    "                        consumer_secret=client_secret,\n",
    "                        request_token_url=request_token_url,\n",
    "                        access_token_url=access_token_url,\n",
    "                        authorize_url=authorize_url,\n",
    "                        base_url=base_url)\n",
    "\n",
    "\n",
    "def get_session(access_token=None, access_token_secret=None):\n",
    "  \"\"\"If access_token and secret are given, create and return a session.\n",
    "\n",
    "      If they are not given, go through the authorization process\n",
    "      interactively and return the new session\n",
    "  \"\"\"\n",
    "  oauth = get_service()\n",
    "\n",
    "  if access_token:\n",
    "    session = OAuth1Session(client_key, client_secret,\n",
    "                            access_token, access_token_secret,\n",
    "                            service=oauth)\n",
    "    return session\n",
    "\n",
    "  params = {\"oauth_callback\": \"oob\"}\n",
    "  headers = {'X-OAuth-Scope': 'public:read,products:read'}\n",
    "  request_token, request_token_secret = oauth.get_request_token(\n",
    "                                          params=params,\n",
    "                                          headers=headers\n",
    "                                        )\n",
    "\n",
    "  authorization_url = oauth.get_authorize_url(request_token)\n",
    "  print(\"Go here: %s to get your verification token.\"\n",
    "          % authorization_url)\n",
    "  verifier = input(\"Paste verifier here: \")\n",
    "  session =  oauth.get_auth_session(request_token, \n",
    "                                    request_token_secret,\n",
    "                                    \"POST\",\n",
    "                                    data={\"oauth_verifier\":verifier})\n",
    "  return session\n",
    "\n",
    "\n",
    "if __name__ == \"__main__\":\n",
    "  s = get_session(\"############\", \"############\")\n",
    "  print(\"Access Token: %s\\tAccess Secret:%s\"\n",
    "          % (s.access_token, s.access_token_secret))\n",
    "  resp = s.get(base_url + f\"/featured/full/#########/{today}/{today}\")\n",
    "  print(resp.json())\n",
    "    # print([ product['name'] for (id, product) in resp.json().items()])\n",
    "\n",
    "  # it is VERY important that querystring parameters go in params\n",
    "  # rather than directly put in the URL. rauth will not sign the request\n",
    "  # correctly if you did s.get(base_url+\"products/mine?store=apple\")\n",
    "\n",
    "  "
   ]
  },
  {
   "cell_type": "markdown",
   "id": "4ae36fb3",
   "metadata": {},
   "source": [
    "# JSON file result from the API call \n",
    "\n",
    "#### This is an example result of the call \n",
    "[![Screenshot 2022-11-01 152120](https://i.im.ge/2022/11/07/24Zi08.Screenshot-2022-11-01-152120.png)](https://im.ge/i/24Zi08)"
   ]
  },
  {
   "cell_type": "markdown",
   "id": "0673b7ce",
   "metadata": {},
   "source": [
    "## Mapping the JSON file and building the dataframe with pandas\n",
    "\n",
    "Picking the fields we are interested in and mapping it to the column names assigned then building the data frame "
   ]
  },
  {
   "cell_type": "code",
   "execution_count": null,
   "id": "041ce790",
   "metadata": {},
   "outputs": [],
   "source": [
    "x=resp.json()\n",
    "df = pd.DataFrame(map(lambda kv: {\n",
    "    'feature_id': kv[0],\n",
    "    **kv[1]['base_category'],\n",
    "    'viewed_from': kv[1]['viewed_from'],\n",
    "     'crumbs': kv[1]['crumbs'],\n",
    "     'highest_position': kv[1]['highest_position'],\n",
    "     'lowest_position': kv[1]['lowest_position'],\n",
    "'country': kv[1]['country'],\n",
    "    'start_date': kv[1]['start_date'],\n",
    "    'end_date': kv[1]['end_date'],\n",
    "}, x.items()))\n",
    "df"
   ]
  },
  {
   "cell_type": "markdown",
   "id": "d923efe3",
   "metadata": {},
   "source": [
    "\n",
    "#### This is an example result of data frame result from the mapping above\n",
    "\n",
    "Notice that highest_position and lowest_position are always the same since we are pulling the data on a daily basis. And the position does NOT change within the same date\n",
    "\n",
    "\n",
    " ***This data is completely fake data***\n",
    "\n",
    "![alt text](https://i.postimg.cc/QMdG7xms/Screenshot-2022-11-01-160335.png)"
   ]
  },
  {
   "cell_type": "markdown",
   "id": "b5a1d3b3",
   "metadata": {},
   "source": [
    "## Mapping the JSON file and building the dataframe with pandas\n",
    "#### Defining Google BigQuery Credentials, project and table id where the data will be append "
   ]
  },
  {
   "cell_type": "code",
   "execution_count": 607,
   "id": "5d8b5536",
   "metadata": {},
   "outputs": [],
   "source": [
    "credentials_path = r\"C:\\Users\\########.json\"\n",
    "os.environ['GOOGLE_APPLICATION_CREDENTIALS'] = credentials_path\n",
    "client = bigquery.Client(project='newwww-339715')\n",
    "table_id= 'newwww-339715.featuring.raw'\n",
    "\n",
    "job_config = bigquery.LoadJobConfig()\n",
    "job_config.write_disposition = 'WRITE_APPEND'\n",
    "job_config.autodetect = True\n",
    "job_config.ignore_unknown_values = True\n",
    "job = client.load_table_from_dataframe(result, table_id,job_config =job_config)\n"
   ]
  },
  {
   "cell_type": "markdown",
   "id": "471e4f95",
   "metadata": {},
   "source": [
    "## The result RAW table in BQ \n",
    "\n",
    "### The result RAW table will look like this \n",
    "[![Screenshot 2022-11-06 165016](https://i.im.ge/2022/11/07/24ZPNq.Screenshot-2022-11-06-165016.png)](https://im.ge/i/24ZPNq)"
   ]
  },
  {
   "cell_type": "markdown",
   "id": "fa9d5b44",
   "metadata": {},
   "source": [
    "## Cleaning the data and prepare it for visualising \n",
    "\n",
    "### The raw data extracted from  Appfigures API will be cleaned using the following query in BQ. This query will do mainly the following \n",
    "\n",
    "\n",
    "* Concat the needed columns to build each distinct featuring,using concat function \n",
    "* Remove any not needed special characters/words from the columns, using REGEXP_REPLACE function\n",
    "* assign the device types and stores with suitable names "
   ]
  },
  {
   "cell_type": "code",
   "execution_count": null,
   "id": "258ddffa",
   "metadata": {},
   "outputs": [],
   "source": [
    "\"\"\"\"\n",
    "create table featuring.cleaned as (SELECT\n",
    "   platform,\n",
    "  position,\n",
    "  date,\n",
    "  country,\n",
    "    REGEXP_REPLACE(REGEXP_REPLACE(Featuring, r'\\((.*?)\\)',''),'Today ,','') as Featuring\n",
    "\n",
    "FROM (\n",
    "  SELECT\n",
    "     *,\n",
    "    CONCAT(device,' ',category,' ',sub_category) Featuring\n",
    "  FROM (\n",
    "    SELECT\n",
    "       platform,\n",
    "      position,\n",
    "      date,\n",
    "      country,\n",
    "      category,\n",
    "      device,\n",
    "      sub_category\n",
    "    FROM (\n",
    "      SELECT\n",
    "        CASE store\n",
    "          WHEN 'google_play' THEN 'android'\n",
    "          WHEN 'apple' THEN 'ios'\n",
    "        ELSE\n",
    "        'other'\n",
    "      END\n",
    "        AS Platform,\n",
    "        name AS category,\n",
    "        highest_position AS position,\n",
    "        date,\n",
    "        country,\n",
    "        CASE\n",
    "          WHEN device = 'handheld' THEN 'phone'\n",
    "        ELSE\n",
    "        device\n",
    "      END\n",
    "        device,\n",
    "        CASE\n",
    "          WHEN crumbs LIKE '%UPDATED%' THEN LOWER(LTRIM (REGEXP_EXTRACT(regexp_extract(crumbs, r' -.*'), r'-(.*)')))\n",
    "        ELSE\n",
    "        crumbs\n",
    "      END\n",
    "        sub_category\n",
    "      FROM\n",
    "        `newwww-339715.featuring.raw`))))\n",
    "\"\"\"\""
   ]
  },
  {
   "cell_type": "markdown",
   "id": "6353b5ed",
   "metadata": {},
   "source": [
    "## The result Cleaned table in BQ \n",
    "\n",
    "### The result Cleaned table will look like this \n",
    "[![Cleaned](https://i.im.ge/2022/11/07/24ZtVp.Cleaned.png)](https://im.ge/i/24ZtVp)"
   ]
  },
  {
   "cell_type": "markdown",
   "id": "e334aeba",
   "metadata": {},
   "source": [
    "### In real-life practice, we can schedule the query daily in GCP and append the original table, for this notebook creating the table once will be enough\n"
   ]
  },
  {
   "cell_type": "markdown",
   "id": "d20ff5ae",
   "metadata": {},
   "source": [
    "## Visualising the data using Looker studio \n",
    "\n",
    "### Access the full report from [here](https://datastudio.google.com/reporting/3c4d25a0-802b-4bd4-9640-c820573b3775)\n",
    "\n",
    "[![report](https://i.im.ge/2022/11/07/24KYWX.report.png)](https://im.ge/i/24KYWX)\n"
   ]
  },
  {
   "cell_type": "markdown",
   "id": "08be9821",
   "metadata": {},
   "source": [
    "# Analysis and Results \n",
    "\n",
    "* For the period between **26th April 2021 - 27th May 2021**, the app got featured **25.6K** in total of days and feature placments in **174** different countries in **93** distinct featuring placments.\n",
    "\n",
    "\n",
    "### Crash rate and total featuring \n",
    "We see negative correlation between total featuring placements and crash rate especially on iOS, the days the app had high crash rates, we see decrease in featuring total numbers.\n",
    "\n",
    "\n",
    "[![Featuring](https://i.im.ge/2022/11/09/SQfRXz.Featuring.png)](https://im.ge/i/SQfRXz)\n",
    "[![Crashed](https://i.im.ge/2022/11/09/SQfZcF.Crashed.png)](https://im.ge/i/SQfZcF)\n",
    "\n"
   ]
  },
  {
   "cell_type": "markdown",
   "id": "280f0214",
   "metadata": {},
   "source": [
    "### Installs, IAP revenue and total featuring \n",
    "* We assume that we have steady spend on UA on the whole period and factors other than featuring is stable.\n",
    "* We see an expected strong positive correlation between total featuring placements, installs and IAP revenue \n",
    "\n",
    "[![Featuring](https://i.im.ge/2022/11/09/SQfRXz.Featuring.png)](https://im.ge/i/SQfRXz)\n",
    "[![installs](https://i.im.ge/2022/11/09/SQfKGK.installs.png)](https://im.ge/i/SQfKGK)\n",
    "[![NET Revenue](https://i.im.ge/2022/11/09/SQff79.NET-Revenue.png)](https://im.ge/i/SQff79)"
   ]
  },
  {
   "cell_type": "markdown",
   "id": "b76b16c8",
   "metadata": {},
   "source": [
    "### Feature placement position  and installs correlation \n",
    "\n",
    "For this metric, we will look at the average feature placement position and the correlation with the installs  \n",
    "\n",
    "### Dependencies"
   ]
  },
  {
   "cell_type": "code",
   "execution_count": 2,
   "id": "eae4a994",
   "metadata": {},
   "outputs": [],
   "source": [
    "import pandas as pd \n",
    "import matplotlib.pyplot as plt\n",
    "import seaborn as sns\n",
    "import matplotlib.cm as cm\n",
    "import matplotlib.colors as colors\n",
    "import matplotlib.pyplot as plt\n",
    "%matplotlib inline"
   ]
  },
  {
   "cell_type": "markdown",
   "id": "c5a38b72",
   "metadata": {},
   "source": [
    "**Reading CSV file that has AVG featuring position and installs number by date**"
   ]
  },
  {
   "cell_type": "code",
   "execution_count": 3,
   "id": "4ad16d87",
   "metadata": {},
   "outputs": [
    {
     "data": {
      "text/html": [
       "<div>\n",
       "<style scoped>\n",
       "    .dataframe tbody tr th:only-of-type {\n",
       "        vertical-align: middle;\n",
       "    }\n",
       "\n",
       "    .dataframe tbody tr th {\n",
       "        vertical-align: top;\n",
       "    }\n",
       "\n",
       "    .dataframe thead th {\n",
       "        text-align: right;\n",
       "    }\n",
       "</style>\n",
       "<table border=\"1\" class=\"dataframe\">\n",
       "  <thead>\n",
       "    <tr style=\"text-align: right;\">\n",
       "      <th></th>\n",
       "      <th>date</th>\n",
       "      <th>position</th>\n",
       "      <th>installs</th>\n",
       "    </tr>\n",
       "  </thead>\n",
       "  <tbody>\n",
       "    <tr>\n",
       "      <th>0</th>\n",
       "      <td>26/04/2021</td>\n",
       "      <td>13.544643</td>\n",
       "      <td>41216</td>\n",
       "    </tr>\n",
       "    <tr>\n",
       "      <th>1</th>\n",
       "      <td>27/04/2021</td>\n",
       "      <td>9.767176</td>\n",
       "      <td>60260</td>\n",
       "    </tr>\n",
       "    <tr>\n",
       "      <th>2</th>\n",
       "      <td>28/04/2021</td>\n",
       "      <td>10.319249</td>\n",
       "      <td>58788</td>\n",
       "    </tr>\n",
       "    <tr>\n",
       "      <th>3</th>\n",
       "      <td>29/04/2021</td>\n",
       "      <td>10.322368</td>\n",
       "      <td>62928</td>\n",
       "    </tr>\n",
       "    <tr>\n",
       "      <th>4</th>\n",
       "      <td>30/04/2021</td>\n",
       "      <td>10.526786</td>\n",
       "      <td>56672</td>\n",
       "    </tr>\n",
       "    <tr>\n",
       "      <th>5</th>\n",
       "      <td>01/05/2021</td>\n",
       "      <td>12.129779</td>\n",
       "      <td>45724</td>\n",
       "    </tr>\n",
       "    <tr>\n",
       "      <th>6</th>\n",
       "      <td>02/05/2021</td>\n",
       "      <td>12.022388</td>\n",
       "      <td>49312</td>\n",
       "    </tr>\n",
       "    <tr>\n",
       "      <th>7</th>\n",
       "      <td>03/05/2021</td>\n",
       "      <td>3.623002</td>\n",
       "      <td>80592</td>\n",
       "    </tr>\n",
       "    <tr>\n",
       "      <th>8</th>\n",
       "      <td>04/05/2021</td>\n",
       "      <td>3.507480</td>\n",
       "      <td>116840</td>\n",
       "    </tr>\n",
       "    <tr>\n",
       "      <th>9</th>\n",
       "      <td>05/05/2021</td>\n",
       "      <td>3.776846</td>\n",
       "      <td>109664</td>\n",
       "    </tr>\n",
       "    <tr>\n",
       "      <th>10</th>\n",
       "      <td>06/05/2021</td>\n",
       "      <td>3.810908</td>\n",
       "      <td>108376</td>\n",
       "    </tr>\n",
       "    <tr>\n",
       "      <th>11</th>\n",
       "      <td>07/05/2021</td>\n",
       "      <td>3.785184</td>\n",
       "      <td>105248</td>\n",
       "    </tr>\n",
       "    <tr>\n",
       "      <th>12</th>\n",
       "      <td>08/05/2021</td>\n",
       "      <td>3.514824</td>\n",
       "      <td>114816</td>\n",
       "    </tr>\n",
       "    <tr>\n",
       "      <th>13</th>\n",
       "      <td>09/05/2021</td>\n",
       "      <td>3.174541</td>\n",
       "      <td>135332</td>\n",
       "    </tr>\n",
       "    <tr>\n",
       "      <th>14</th>\n",
       "      <td>10/05/2021</td>\n",
       "      <td>3.064409</td>\n",
       "      <td>138552</td>\n",
       "    </tr>\n",
       "    <tr>\n",
       "      <th>15</th>\n",
       "      <td>11/05/2021</td>\n",
       "      <td>19.801047</td>\n",
       "      <td>52716</td>\n",
       "    </tr>\n",
       "    <tr>\n",
       "      <th>16</th>\n",
       "      <td>12/05/2021</td>\n",
       "      <td>19.039832</td>\n",
       "      <td>43884</td>\n",
       "    </tr>\n",
       "    <tr>\n",
       "      <th>17</th>\n",
       "      <td>13/05/2021</td>\n",
       "      <td>21.707207</td>\n",
       "      <td>40848</td>\n",
       "    </tr>\n",
       "    <tr>\n",
       "      <th>18</th>\n",
       "      <td>14/05/2021</td>\n",
       "      <td>19.440529</td>\n",
       "      <td>41768</td>\n",
       "    </tr>\n",
       "    <tr>\n",
       "      <th>19</th>\n",
       "      <td>15/05/2021</td>\n",
       "      <td>19.713636</td>\n",
       "      <td>40480</td>\n",
       "    </tr>\n",
       "    <tr>\n",
       "      <th>20</th>\n",
       "      <td>16/05/2021</td>\n",
       "      <td>15.854133</td>\n",
       "      <td>56764</td>\n",
       "    </tr>\n",
       "    <tr>\n",
       "      <th>21</th>\n",
       "      <td>17/05/2021</td>\n",
       "      <td>17.932619</td>\n",
       "      <td>60076</td>\n",
       "    </tr>\n",
       "    <tr>\n",
       "      <th>22</th>\n",
       "      <td>18/05/2021</td>\n",
       "      <td>18.178947</td>\n",
       "      <td>52440</td>\n",
       "    </tr>\n",
       "    <tr>\n",
       "      <th>23</th>\n",
       "      <td>19/05/2021</td>\n",
       "      <td>17.828343</td>\n",
       "      <td>46092</td>\n",
       "    </tr>\n",
       "    <tr>\n",
       "      <th>24</th>\n",
       "      <td>20/05/2021</td>\n",
       "      <td>18.688588</td>\n",
       "      <td>47564</td>\n",
       "    </tr>\n",
       "    <tr>\n",
       "      <th>25</th>\n",
       "      <td>21/05/2021</td>\n",
       "      <td>7.608247</td>\n",
       "      <td>44620</td>\n",
       "    </tr>\n",
       "    <tr>\n",
       "      <th>26</th>\n",
       "      <td>22/05/2021</td>\n",
       "      <td>8.196172</td>\n",
       "      <td>38456</td>\n",
       "    </tr>\n",
       "    <tr>\n",
       "      <th>27</th>\n",
       "      <td>23/05/2021</td>\n",
       "      <td>5.072509</td>\n",
       "      <td>117576</td>\n",
       "    </tr>\n",
       "    <tr>\n",
       "      <th>28</th>\n",
       "      <td>24/05/2021</td>\n",
       "      <td>4.703583</td>\n",
       "      <td>141220</td>\n",
       "    </tr>\n",
       "    <tr>\n",
       "      <th>29</th>\n",
       "      <td>25/05/2021</td>\n",
       "      <td>4.447727</td>\n",
       "      <td>121440</td>\n",
       "    </tr>\n",
       "    <tr>\n",
       "      <th>30</th>\n",
       "      <td>26/05/2021</td>\n",
       "      <td>4.473257</td>\n",
       "      <td>120980</td>\n",
       "    </tr>\n",
       "  </tbody>\n",
       "</table>\n",
       "</div>"
      ],
      "text/plain": [
       "          date   position  installs\n",
       "0   26/04/2021  13.544643     41216\n",
       "1   27/04/2021   9.767176     60260\n",
       "2   28/04/2021  10.319249     58788\n",
       "3   29/04/2021  10.322368     62928\n",
       "4   30/04/2021  10.526786     56672\n",
       "5   01/05/2021  12.129779     45724\n",
       "6   02/05/2021  12.022388     49312\n",
       "7   03/05/2021   3.623002     80592\n",
       "8   04/05/2021   3.507480    116840\n",
       "9   05/05/2021   3.776846    109664\n",
       "10  06/05/2021   3.810908    108376\n",
       "11  07/05/2021   3.785184    105248\n",
       "12  08/05/2021   3.514824    114816\n",
       "13  09/05/2021   3.174541    135332\n",
       "14  10/05/2021   3.064409    138552\n",
       "15  11/05/2021  19.801047     52716\n",
       "16  12/05/2021  19.039832     43884\n",
       "17  13/05/2021  21.707207     40848\n",
       "18  14/05/2021  19.440529     41768\n",
       "19  15/05/2021  19.713636     40480\n",
       "20  16/05/2021  15.854133     56764\n",
       "21  17/05/2021  17.932619     60076\n",
       "22  18/05/2021  18.178947     52440\n",
       "23  19/05/2021  17.828343     46092\n",
       "24  20/05/2021  18.688588     47564\n",
       "25  21/05/2021   7.608247     44620\n",
       "26  22/05/2021   8.196172     38456\n",
       "27  23/05/2021   5.072509    117576\n",
       "28  24/05/2021   4.703583    141220\n",
       "29  25/05/2021   4.447727    121440\n",
       "30  26/05/2021   4.473257    120980"
      ]
     },
     "execution_count": 3,
     "metadata": {},
     "output_type": "execute_result"
    }
   ],
   "source": [
    "df=pd.read_csv(r'C:\\Users\\jamit\\Downloads\\Full.csv')\n",
    "df.head()\n",
    "df"
   ]
  },
  {
   "cell_type": "markdown",
   "id": "4cedb9fa",
   "metadata": {},
   "source": [
    "## Plotting installs number vs AVG featuring position using replot from seaborn library "
   ]
  },
  {
   "cell_type": "code",
   "execution_count": 12,
   "id": "8931c2ab",
   "metadata": {
    "scrolled": true
   },
   "outputs": [
    {
     "data": {
      "image/png": "[encoded data removed]",
      "text/plain": [
       "<Figure size 432x288 with 1 Axes>"
      ]
     },
     "metadata": {
      "needs_background": "light"
     },
     "output_type": "display_data"
    }
   ],
   "source": [
    "viz_1=sns.regplot(x=\"position\",y=\"installs\",data=df,line_kws={'color': 'crimson'}, scatter_kws={'s' : 10})\n",
    "viz_1.set(xlabel='avg_position', ylabel='installs')\n",
    "\n",
    "plt.show(viz_1)"
   ]
  },
  {
   "cell_type": "markdown",
   "id": "7b222ff8",
   "metadata": {},
   "source": [
    "## Calculating Pearson correlation coefficient\n"
   ]
  },
  {
   "cell_type": "code",
   "execution_count": 10,
   "id": "c0cb4c7d",
   "metadata": {
    "scrolled": true
   },
   "outputs": [
    {
     "name": "stdout",
     "output_type": "stream",
     "text": [
      "-0.8126677954403058\n"
     ]
    }
   ],
   "source": [
    "correlation = df[\"position\"].corr(df[\"installs\"],method ='pearson')\n",
    "print(correlation)"
   ]
  },
  {
   "cell_type": "markdown",
   "id": "3292e267",
   "metadata": {},
   "source": [
    "* **We see a strong correlation between the number of installs and the featuring position**\n",
    "* **Obligatory call-out: correlation ≠ causation**\n",
    "* **Next we will calculate the slope to gives us the  direction and steepness of the trend line, using linregress from scipy library.**\n",
    "\n"
   ]
  },
  {
   "cell_type": "code",
   "execution_count": 9,
   "id": "53fe9b08",
   "metadata": {
    "scrolled": true
   },
   "outputs": [
    {
     "data": {
      "text/plain": [
       "LinregressResult(slope=-4462.141517108157, intercept=123285.76051784476, rvalue=-0.8126677954403058, pvalue=2.809539328015259e-08, stderr=594.150712960209, intercept_stderr=7370.383107838095)"
      ]
     },
     "execution_count": 9,
     "metadata": {},
     "output_type": "execute_result"
    }
   ],
   "source": [
    "from scipy.stats import linregress\n",
    "linregress(df[\"position\"],df[\"installs\"],)"
   ]
  },
  {
   "cell_type": "markdown",
   "id": "b3f41876",
   "metadata": {},
   "source": [
    "* **From the slope we got we can see that we get less 4462 installs for every 1 increase in featuring position**\n"
   ]
  },
  {
   "cell_type": "markdown",
   "id": "0093cfd0",
   "metadata": {},
   "source": [
    "## Future Directions \n",
    "\n",
    "* Trying to keep crash rates as low as possible since it plays clear role in the app getting featured. \n",
    "* Work on increase liveOps e.g. live events in Halloween and chrisrmats periods with enough support for the stores assets from the marketing artists.\n",
    "* Aiming to be in high positions when featured since we see a strong correlation between the position of the featuring and the number of installs we are getting. \n",
    "* Keep featuring in mind when tracking any other changes we make in the game."
   ]
  },
  {
   "cell_type": "markdown",
   "id": "25b0e8b8",
   "metadata": {},
   "source": [
    "## Conclusion\n",
    "\n",
    "In this notebook, I showed case of an efficient solution for a real issue in the gaming industry that will make tracking your game more easy and will give you more clear insight about how your game is performing with daily updated data. This aspect of the product doesn't usually get the enough attention while its still pretty important. "
   ]
  },
  {
   "cell_type": "code",
   "execution_count": null,
   "id": "7aa22d3f",
   "metadata": {},
   "outputs": [],
   "source": []
  }
 ],
 "metadata": {
  "kernelspec": {
   "display_name": "Python 3 (ipykernel)",
   "language": "python",
   "name": "python3"
  },
  "language_info": {
   "codemirror_mode": {
    "name": "ipython",
    "version": 3
   },
   "file_extension": ".py",
   "mimetype": "text/x-python",
   "name": "python",
   "nbconvert_exporter": "python",
   "pygments_lexer": "ipython3",
   "version": "3.9.12"
  }
 },
 "nbformat": 4,
 "nbformat_minor": 5
}
