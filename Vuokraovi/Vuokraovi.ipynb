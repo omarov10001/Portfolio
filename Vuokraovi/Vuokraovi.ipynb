{
 "cells": [
  {
   "cell_type": "markdown",
   "id": "2944ec39",
   "metadata": {},
   "source": [
    "# EDA On Vuokraovi Data, Finland \n",
    "\n",
    "by **Omar Banat**\n",
    "\n",
    "2/2/2022\n",
    "\n",
    "![alt text](data:image/png;base64,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)\n",
    "\n",
    "\n",
    "## Abstract\n",
    "\n",
    "Vuokraovi.com is the most comprehensive online marketplace for rental properties in Finland ,Vuokraovi.com is a popular site specialized in rental properties listed by companies, communities and private landlords.\n",
    "In this project I use all rent listing that are available Vuokraovi.com for every city in Finland and I'll explore this data to answer questions and come with intersting insights,after that I prepare data to visualise it using Tableau.\n",
    "\n",
    "## About the data \n",
    "\n",
    "I used scrape tool to scrape around 21,000 listing from Vuokraovi.com,the data aquired are in 5 excel files.\n",
    "The raw files contain data about address , number of room , monthly rent and many other columns , I cleaned and manipulate the data  using python and then we will have a look on the columns again .\n",
    "\n",
    "## Dependencies\n",
    "\n",
    "\n"
   ]
  },
  {
   "cell_type": "code",
   "execution_count": 1,
   "id": "8fa5143b",
   "metadata": {
    "scrolled": true
   },
   "outputs": [
    {
     "name": "stdout",
     "output_type": "stream",
     "text": [
      "Requirement already satisfied: geocoder in c:\\users\\hp\\anaconda3\\lib\\site-packages (1.38.1)\n",
      "Requirement already satisfied: click in c:\\users\\hp\\anaconda3\\lib\\site-packages (from geocoder) (8.0.3)\n",
      "Requirement already satisfied: six in c:\\users\\hp\\anaconda3\\lib\\site-packages (from geocoder) (1.16.0)\n",
      "Requirement already satisfied: requests in c:\\users\\hp\\anaconda3\\lib\\site-packages (from geocoder) (2.26.0)\n",
      "Requirement already satisfied: ratelim in c:\\users\\hp\\anaconda3\\lib\\site-packages (from geocoder) (0.1.6)\n",
      "Requirement already satisfied: future in c:\\users\\hp\\anaconda3\\lib\\site-packages (from geocoder) (0.18.2)\n",
      "Requirement already satisfied: colorama in c:\\users\\hp\\anaconda3\\lib\\site-packages (from click->geocoder) (0.4.4)\n",
      "Requirement already satisfied: decorator in c:\\users\\hp\\anaconda3\\lib\\site-packages (from ratelim->geocoder) (5.1.0)\n",
      "Requirement already satisfied: idna<4,>=2.5 in c:\\users\\hp\\anaconda3\\lib\\site-packages (from requests->geocoder) (3.2)\n",
      "Requirement already satisfied: urllib3<1.27,>=1.21.1 in c:\\users\\hp\\anaconda3\\lib\\site-packages (from requests->geocoder) (1.26.7)\n",
      "Requirement already satisfied: certifi>=2017.4.17 in c:\\users\\hp\\anaconda3\\lib\\site-packages (from requests->geocoder) (2021.10.8)\n",
      "Requirement already satisfied: charset-normalizer~=2.0.0 in c:\\users\\hp\\anaconda3\\lib\\site-packages (from requests->geocoder) (2.0.4)\n",
      "Requirement already satisfied: geopy in c:\\users\\hp\\anaconda3\\lib\\site-packages (2.2.0)\n",
      "Requirement already satisfied: geographiclib<2,>=1.49 in c:\\users\\hp\\anaconda3\\lib\\site-packages (from geopy) (1.52)\n",
      "Requirement already satisfied: folium in c:\\users\\hp\\anaconda3\\lib\\site-packages (0.12.1.post1)\n",
      "Requirement already satisfied: jinja2>=2.9 in c:\\users\\hp\\anaconda3\\lib\\site-packages (from folium) (2.11.3)\n",
      "Requirement already satisfied: branca>=0.3.0 in c:\\users\\hp\\anaconda3\\lib\\site-packages (from folium) (0.4.2)\n",
      "Requirement already satisfied: requests in c:\\users\\hp\\anaconda3\\lib\\site-packages (from folium) (2.26.0)\n",
      "Requirement already satisfied: numpy in c:\\users\\hp\\anaconda3\\lib\\site-packages (from folium) (1.20.3)\n",
      "Requirement already satisfied: MarkupSafe>=0.23 in c:\\users\\hp\\anaconda3\\lib\\site-packages (from jinja2>=2.9->folium) (1.1.1)\n",
      "Requirement already satisfied: idna<4,>=2.5 in c:\\users\\hp\\anaconda3\\lib\\site-packages (from requests->folium) (3.2)\n",
      "Requirement already satisfied: certifi>=2017.4.17 in c:\\users\\hp\\anaconda3\\lib\\site-packages (from requests->folium) (2021.10.8)\n",
      "Requirement already satisfied: urllib3<1.27,>=1.21.1 in c:\\users\\hp\\anaconda3\\lib\\site-packages (from requests->folium) (1.26.7)\n",
      "Requirement already satisfied: charset-normalizer~=2.0.0 in c:\\users\\hp\\anaconda3\\lib\\site-packages (from requests->folium) (2.0.4)\n",
      "imported successfully!\n"
     ]
    }
   ],
   "source": [
    "# Main scientific library in Python\n",
    "import numpy as np \n",
    "\n",
    "#Main data structure library in Python\n",
    "import pandas as pd \n",
    "pd.set_option('display.max_columns', None)\n",
    "pd.set_option('display.max_rows', None)\n",
    "\n",
    "\n",
    "\n",
    "# Matplotlib and associated plotting modules\n",
    "import matplotlib.pyplot as plt\n",
    "import seaborn as sns\n",
    "import matplotlib.cm as cm\n",
    "import matplotlib.colors as colors\n",
    "import matplotlib.pyplot as plt\n",
    "%matplotlib inline\n",
    "\n",
    "\n",
    "# Geocoder for getting the geographical coordinates of a given postal code\n",
    "!pip install geocoder\n",
    "import geocoder \n",
    "\n",
    "# Module for converting an address into latitude and longitude values\n",
    "!pip install geopy\n",
    "from geopy.geocoders import Nominatim \n",
    "\n",
    "\n",
    "# Map-rendering library\n",
    "!pip install folium\n",
    "import folium \n",
    "\n",
    "print(\"imported successfully!\")"
   ]
  },
  {
   "cell_type": "markdown",
   "id": "4f3a56d9",
   "metadata": {},
   "source": [
    "### Load data with pandas\n"
   ]
  },
  {
   "cell_type": "code",
   "execution_count": 2,
   "id": "1966e359",
   "metadata": {},
   "outputs": [],
   "source": [
    "df1=pd.read_excel(r\"C:\\Users\\HP\\Desktop\\vuokraovi\\1.xlsx\")\n",
    "df2=pd.read_excel(r\"C:\\Users\\HP\\Desktop\\vuokraovi\\2.xlsx\")\n",
    "df3=pd.read_excel(r\"C:\\Users\\HP\\Desktop\\vuokraovi\\3.xlsx\")\n",
    "df4=pd.read_excel(r\"C:\\Users\\HP\\Desktop\\vuokraovi\\4.xlsx\")\n",
    "df5=pd.read_excel(r\"C:\\Users\\HP\\Desktop\\vuokraovi\\5.xlsx\")\n",
    "df6=pd.read_excel(r\"C:\\Users\\HP\\Desktop\\vuokraovi\\6.xlsx\")"
   ]
  },
  {
   "cell_type": "markdown",
   "id": "01e09c81",
   "metadata": {},
   "source": [
    "Looking at the shape of each dataframe"
   ]
  },
  {
   "cell_type": "code",
   "execution_count": 3,
   "id": "8e36d0c8",
   "metadata": {},
   "outputs": [
    {
     "name": "stdout",
     "output_type": "stream",
     "text": [
      "(20000, 9)\n",
      "(20000, 9)\n",
      "(2492, 9)\n",
      "(20000, 9)\n",
      "(20000, 9)\n",
      "(2492, 9)\n"
     ]
    }
   ],
   "source": [
    "print(df1.shape)\n",
    "print(df2.shape)\n",
    "print(df3.shape)\n",
    "print(df4.shape)\n",
    "print(df5.shape)\n",
    "print(df6.shape)\n"
   ]
  },
  {
   "cell_type": "markdown",
   "id": "b69ed917",
   "metadata": {},
   "source": [
    "### Conact and Build the dataframe with pandas\n"
   ]
  },
  {
   "cell_type": "code",
   "execution_count": 4,
   "id": "409b8699",
   "metadata": {},
   "outputs": [],
   "source": [
    "df = pd.DataFrame( np.concatenate( (df1.values, df2.values,df3.values,df4.values,df5.values,df6.values), axis=0 ) )\n",
    "df.columns = [ 'a', 'b', 'c','d','e','f','g','h','i' ]"
   ]
  },
  {
   "cell_type": "code",
   "execution_count": 5,
   "id": "46280b97",
   "metadata": {
    "scrolled": true
   },
   "outputs": [
    {
     "data": {
      "text/plain": [
       "(84984, 9)"
      ]
     },
     "execution_count": 5,
     "metadata": {},
     "output_type": "execute_result"
    }
   ],
   "source": [
    "df.shape"
   ]
  },
  {
   "cell_type": "markdown",
   "id": "8ea86b70",
   "metadata": {},
   "source": [
    "The data scraped is over 80000 listing while listings on the website were around 20000 ,next, CLEANING."
   ]
  },
  {
   "cell_type": "markdown",
   "id": "649f4950",
   "metadata": {},
   "source": [
    "## 1.Data Cleaning"
   ]
  },
  {
   "cell_type": "markdown",
   "id": "1e8fd17a",
   "metadata": {},
   "source": [
    "Viewing the first five rows:\n",
    "\n"
   ]
  },
  {
   "cell_type": "code",
   "execution_count": 6,
   "id": "b703a7d1",
   "metadata": {
    "scrolled": false
   },
   "outputs": [
    {
     "data": {
      "text/html": [
       "<div>\n",
       "<style scoped>\n",
       "    .dataframe tbody tr th:only-of-type {\n",
       "        vertical-align: middle;\n",
       "    }\n",
       "\n",
       "    .dataframe tbody tr th {\n",
       "        vertical-align: top;\n",
       "    }\n",
       "\n",
       "    .dataframe thead th {\n",
       "        text-align: right;\n",
       "    }\n",
       "</style>\n",
       "<table border=\"1\" class=\"dataframe\">\n",
       "  <thead>\n",
       "    <tr style=\"text-align: right;\">\n",
       "      <th></th>\n",
       "      <th>a</th>\n",
       "      <th>b</th>\n",
       "      <th>c</th>\n",
       "      <th>d</th>\n",
       "      <th>e</th>\n",
       "      <th>f</th>\n",
       "      <th>g</th>\n",
       "      <th>h</th>\n",
       "      <th>i</th>\n",
       "    </tr>\n",
       "  </thead>\n",
       "  <tbody>\n",
       "    <tr>\n",
       "      <th>0</th>\n",
       "      <td>Turku\\n\\n\\n    , Itäharju \\n\\n\\n \\n\\n    , Ruu...</td>\n",
       "      <td>NaN</td>\n",
       "      <td>kerrostalo,  m²</td>\n",
       "      <td>NaN</td>\n",
       "      <td>699 €/kk</td>\n",
       "      <td>Vapautuu 16.3.2022</td>\n",
       "      <td>https://track.adform.net/C/?bn=15960635</td>\n",
       "      <td>Lisää suosikkeihin</td>\n",
       "      <td>https://d2ue5ppt0wsjaa.cloudfront.net/140x50,f...</td>\n",
       "    </tr>\n",
       "    <tr>\n",
       "      <th>1</th>\n",
       "      <td>Järvenpää\\n\\n\\n    , Järvenpää \\n\\n\\n \\n\\n    ...</td>\n",
       "      <td>NaN</td>\n",
       "      <td>Kerrostalo, 28 m²</td>\n",
       "      <td>1h + ak + lasit. p</td>\n",
       "      <td>735 €/kk</td>\n",
       "      <td>Heti vapaa</td>\n",
       "      <td>https://fiksuvuokraus.fi/asunnonhakijalle</td>\n",
       "      <td>Lisää suosikkeihin</td>\n",
       "      <td>https://d2ue5ppt0wsjaa.cloudfront.net/140x50,f...</td>\n",
       "    </tr>\n",
       "    <tr>\n",
       "      <th>2</th>\n",
       "      <td>Tampere\\n\\n\\n    , Lentävänniemi \\n\\n\\n \\n\\n  ...</td>\n",
       "      <td>NaN</td>\n",
       "      <td>Kerrostalo, 39,5 m²</td>\n",
       "      <td>2h + kt + kph + vh + r. parvek</td>\n",
       "      <td>670 €/kk</td>\n",
       "      <td>Heti vapaa</td>\n",
       "      <td>https://fiksuvuokraus.fi/asunnonhakijalle</td>\n",
       "      <td>Lisää suosikkeihin</td>\n",
       "      <td>https://d2ue5ppt0wsjaa.cloudfront.net/140x50,f...</td>\n",
       "    </tr>\n",
       "    <tr>\n",
       "      <th>3</th>\n",
       "      <td>Helsinki\\n\\n\\n    , Taka-Töölö \\n\\n\\n \\n\\n    ...</td>\n",
       "      <td>NaN</td>\n",
       "      <td>Kerrostalo, 64,5 m²</td>\n",
       "      <td>2h + avok + p</td>\n",
       "      <td>1 450 €/kk</td>\n",
       "      <td>Heti vapaa</td>\n",
       "      <td>https://fiksuvuokraus.fi/asunnonhakijalle</td>\n",
       "      <td>Lisää suosikkeihin</td>\n",
       "      <td>https://d2ue5ppt0wsjaa.cloudfront.net/140x50,f...</td>\n",
       "    </tr>\n",
       "    <tr>\n",
       "      <th>4</th>\n",
       "      <td>Helsinki\\n\\n\\n\\n \\n\\n    , Liisankatu 3</td>\n",
       "      <td>NaN</td>\n",
       "      <td>Kerrostalo, 29 m²</td>\n",
       "      <td>1h + kt</td>\n",
       "      <td>855 €/kk</td>\n",
       "      <td>Heti vapaa</td>\n",
       "      <td>https://fiksuvuokraus.fi/asunnonhakijalle</td>\n",
       "      <td>Lisää suosikkeihin</td>\n",
       "      <td>https://d2ue5ppt0wsjaa.cloudfront.net/140x50,f...</td>\n",
       "    </tr>\n",
       "  </tbody>\n",
       "</table>\n",
       "</div>"
      ],
      "text/plain": [
       "                                                   a    b  \\\n",
       "0  Turku\\n\\n\\n    , Itäharju \\n\\n\\n \\n\\n    , Ruu...  NaN   \n",
       "1  Järvenpää\\n\\n\\n    , Järvenpää \\n\\n\\n \\n\\n    ...  NaN   \n",
       "2  Tampere\\n\\n\\n    , Lentävänniemi \\n\\n\\n \\n\\n  ...  NaN   \n",
       "3  Helsinki\\n\\n\\n    , Taka-Töölö \\n\\n\\n \\n\\n    ...  NaN   \n",
       "4            Helsinki\\n\\n\\n\\n \\n\\n    , Liisankatu 3  NaN   \n",
       "\n",
       "                     c                               d           e  \\\n",
       "0      kerrostalo,  m²                             NaN    699 €/kk   \n",
       "1    Kerrostalo, 28 m²              1h + ak + lasit. p    735 €/kk   \n",
       "2  Kerrostalo, 39,5 m²  2h + kt + kph + vh + r. parvek    670 €/kk   \n",
       "3  Kerrostalo, 64,5 m²                   2h + avok + p  1 450 €/kk   \n",
       "4    Kerrostalo, 29 m²                         1h + kt    855 €/kk   \n",
       "\n",
       "                    f                                          g  \\\n",
       "0  Vapautuu 16.3.2022    https://track.adform.net/C/?bn=15960635   \n",
       "1          Heti vapaa  https://fiksuvuokraus.fi/asunnonhakijalle   \n",
       "2          Heti vapaa  https://fiksuvuokraus.fi/asunnonhakijalle   \n",
       "3          Heti vapaa  https://fiksuvuokraus.fi/asunnonhakijalle   \n",
       "4          Heti vapaa  https://fiksuvuokraus.fi/asunnonhakijalle   \n",
       "\n",
       "                    h                                                  i  \n",
       "0  Lisää suosikkeihin  https://d2ue5ppt0wsjaa.cloudfront.net/140x50,f...  \n",
       "1  Lisää suosikkeihin  https://d2ue5ppt0wsjaa.cloudfront.net/140x50,f...  \n",
       "2  Lisää suosikkeihin  https://d2ue5ppt0wsjaa.cloudfront.net/140x50,f...  \n",
       "3  Lisää suosikkeihin  https://d2ue5ppt0wsjaa.cloudfront.net/140x50,f...  \n",
       "4  Lisää suosikkeihin  https://d2ue5ppt0wsjaa.cloudfront.net/140x50,f...  "
      ]
     },
     "execution_count": 6,
     "metadata": {},
     "output_type": "execute_result"
    }
   ],
   "source": [
    "df.head(5)"
   ]
  },
  {
   "cell_type": "markdown",
   "id": "b0b3bb9f",
   "metadata": {},
   "source": [
    "### Drop Images link and \"add to favourite\" button columns"
   ]
  },
  {
   "cell_type": "code",
   "execution_count": 7,
   "id": "b52fbcaa",
   "metadata": {},
   "outputs": [],
   "source": [
    "df = df.drop(columns=['b', 'h','i'])\n"
   ]
  },
  {
   "cell_type": "markdown",
   "id": "ac3be474",
   "metadata": {},
   "source": [
    "Viewing the data types:\n",
    "\n"
   ]
  },
  {
   "cell_type": "code",
   "execution_count": 8,
   "id": "c87b6772",
   "metadata": {
    "scrolled": true
   },
   "outputs": [
    {
     "data": {
      "text/plain": [
       "a    object\n",
       "c    object\n",
       "d    object\n",
       "e    object\n",
       "f    object\n",
       "g    object\n",
       "dtype: object"
      ]
     },
     "execution_count": 8,
     "metadata": {},
     "output_type": "execute_result"
    }
   ],
   "source": [
    "df.dtypes"
   ]
  },
  {
   "cell_type": "markdown",
   "id": "7e09e800",
   "metadata": {},
   "source": [
    "### Drop empty rows"
   ]
  },
  {
   "cell_type": "code",
   "execution_count": 9,
   "id": "4664f687",
   "metadata": {},
   "outputs": [
    {
     "data": {
      "text/plain": [
       "(64300, 6)"
      ]
     },
     "execution_count": 9,
     "metadata": {},
     "output_type": "execute_result"
    }
   ],
   "source": [
    "df=df.dropna(how='all')\n",
    "df.shape"
   ]
  },
  {
   "cell_type": "markdown",
   "id": "39425a03",
   "metadata": {},
   "source": [
    "### Drop duplicates "
   ]
  },
  {
   "cell_type": "code",
   "execution_count": 10,
   "id": "b0125f7d",
   "metadata": {},
   "outputs": [
    {
     "data": {
      "text/plain": [
       "(20215, 6)"
      ]
     },
     "execution_count": 10,
     "metadata": {},
     "output_type": "execute_result"
    }
   ],
   "source": [
    "df=df.drop_duplicates()\n",
    "df.shape"
   ]
  },
  {
   "cell_type": "markdown",
   "id": "65705504",
   "metadata": {},
   "source": [
    "After dropping empty rows and duplictes we got the same number of listings on the website\n",
    "https://www.vuokraovi.com/"
   ]
  },
  {
   "cell_type": "code",
   "execution_count": 11,
   "id": "1d2abcba",
   "metadata": {},
   "outputs": [],
   "source": [
    "df_cleaned=df.copy()"
   ]
  },
  {
   "cell_type": "markdown",
   "id": "2aa9689d",
   "metadata": {},
   "source": [
    "### Manipulate data using Pandas \n",
    "\n",
    "#### Separate address column to City, District, Street and City and District"
   ]
  },
  {
   "cell_type": "code",
   "execution_count": 12,
   "id": "3484651e",
   "metadata": {},
   "outputs": [
    {
     "data": {
      "text/html": [
       "<div>\n",
       "<style scoped>\n",
       "    .dataframe tbody tr th:only-of-type {\n",
       "        vertical-align: middle;\n",
       "    }\n",
       "\n",
       "    .dataframe tbody tr th {\n",
       "        vertical-align: top;\n",
       "    }\n",
       "\n",
       "    .dataframe thead th {\n",
       "        text-align: right;\n",
       "    }\n",
       "</style>\n",
       "<table border=\"1\" class=\"dataframe\">\n",
       "  <thead>\n",
       "    <tr style=\"text-align: right;\">\n",
       "      <th></th>\n",
       "      <th>Address</th>\n",
       "      <th>c</th>\n",
       "      <th>d</th>\n",
       "      <th>e</th>\n",
       "      <th>f</th>\n",
       "      <th>g</th>\n",
       "      <th>City</th>\n",
       "      <th>District</th>\n",
       "      <th>Street</th>\n",
       "      <th>City and District</th>\n",
       "    </tr>\n",
       "  </thead>\n",
       "  <tbody>\n",
       "    <tr>\n",
       "      <th>0</th>\n",
       "      <td>Turku       , Itäharju           , Ruukinkatu ...</td>\n",
       "      <td>kerrostalo,  m²</td>\n",
       "      <td>NaN</td>\n",
       "      <td>699 €/kk</td>\n",
       "      <td>Vapautuu 16.3.2022</td>\n",
       "      <td>https://track.adform.net/C/?bn=15960635</td>\n",
       "      <td>Turku</td>\n",
       "      <td>Itäharju</td>\n",
       "      <td>Ruukinkatu 1a A</td>\n",
       "      <td>Turku        Itäharju</td>\n",
       "    </tr>\n",
       "    <tr>\n",
       "      <th>1</th>\n",
       "      <td>Järvenpää       , Järvenpää           , Metall...</td>\n",
       "      <td>Kerrostalo, 28 m²</td>\n",
       "      <td>1h + ak + lasit. p</td>\n",
       "      <td>735 €/kk</td>\n",
       "      <td>Heti vapaa</td>\n",
       "      <td>https://fiksuvuokraus.fi/asunnonhakijalle</td>\n",
       "      <td>Järvenpää</td>\n",
       "      <td>Järvenpää</td>\n",
       "      <td>Metallimiehenkuja 1</td>\n",
       "      <td>Järvenpää        Järvenpää</td>\n",
       "    </tr>\n",
       "    <tr>\n",
       "      <th>2</th>\n",
       "      <td>Tampere       , Lentävänniemi           , Liel...</td>\n",
       "      <td>Kerrostalo, 39,5 m²</td>\n",
       "      <td>2h + kt + kph + vh + r. parvek</td>\n",
       "      <td>670 €/kk</td>\n",
       "      <td>Heti vapaa</td>\n",
       "      <td>https://fiksuvuokraus.fi/asunnonhakijalle</td>\n",
       "      <td>Tampere</td>\n",
       "      <td>Lentävänniemi</td>\n",
       "      <td>Lielahdenkatu 45</td>\n",
       "      <td>Tampere        Lentävänniemi</td>\n",
       "    </tr>\n",
       "    <tr>\n",
       "      <th>3</th>\n",
       "      <td>Helsinki       , Taka-Töölö           , Manner...</td>\n",
       "      <td>Kerrostalo, 64,5 m²</td>\n",
       "      <td>2h + avok + p</td>\n",
       "      <td>1 450 €/kk</td>\n",
       "      <td>Heti vapaa</td>\n",
       "      <td>https://fiksuvuokraus.fi/asunnonhakijalle</td>\n",
       "      <td>Helsinki</td>\n",
       "      <td>Taka-Töölö</td>\n",
       "      <td>Mannerheimintie 65</td>\n",
       "      <td>Helsinki        Taka-Töölö</td>\n",
       "    </tr>\n",
       "    <tr>\n",
       "      <th>4</th>\n",
       "      <td>Helsinki           , Liisankatu 3</td>\n",
       "      <td>Kerrostalo, 29 m²</td>\n",
       "      <td>1h + kt</td>\n",
       "      <td>855 €/kk</td>\n",
       "      <td>Heti vapaa</td>\n",
       "      <td>https://fiksuvuokraus.fi/asunnonhakijalle</td>\n",
       "      <td>Helsinki</td>\n",
       "      <td>Liisankatu 3</td>\n",
       "      <td>NaN</td>\n",
       "      <td>Helsinki            Liisankatu 3</td>\n",
       "    </tr>\n",
       "  </tbody>\n",
       "</table>\n",
       "</div>"
      ],
      "text/plain": [
       "                                             Address                    c  \\\n",
       "0  Turku       , Itäharju           , Ruukinkatu ...      kerrostalo,  m²   \n",
       "1  Järvenpää       , Järvenpää           , Metall...    Kerrostalo, 28 m²   \n",
       "2  Tampere       , Lentävänniemi           , Liel...  Kerrostalo, 39,5 m²   \n",
       "3  Helsinki       , Taka-Töölö           , Manner...  Kerrostalo, 64,5 m²   \n",
       "4                  Helsinki           , Liisankatu 3    Kerrostalo, 29 m²   \n",
       "\n",
       "                                d           e                   f  \\\n",
       "0                             NaN    699 €/kk  Vapautuu 16.3.2022   \n",
       "1              1h + ak + lasit. p    735 €/kk          Heti vapaa   \n",
       "2  2h + kt + kph + vh + r. parvek    670 €/kk          Heti vapaa   \n",
       "3                   2h + avok + p  1 450 €/kk          Heti vapaa   \n",
       "4                         1h + kt    855 €/kk          Heti vapaa   \n",
       "\n",
       "                                           g       City  \\\n",
       "0    https://track.adform.net/C/?bn=15960635      Turku   \n",
       "1  https://fiksuvuokraus.fi/asunnonhakijalle  Järvenpää   \n",
       "2  https://fiksuvuokraus.fi/asunnonhakijalle    Tampere   \n",
       "3  https://fiksuvuokraus.fi/asunnonhakijalle   Helsinki   \n",
       "4  https://fiksuvuokraus.fi/asunnonhakijalle   Helsinki   \n",
       "\n",
       "                    District                Street  \\\n",
       "0        Itäharju                  Ruukinkatu 1a A   \n",
       "1       Järvenpää              Metallimiehenkuja 1   \n",
       "2   Lentävänniemi                 Lielahdenkatu 45   \n",
       "3      Taka-Töölö               Mannerheimintie 65   \n",
       "4               Liisankatu 3                   NaN   \n",
       "\n",
       "                         City and District  \n",
       "0         Turku        Itäharju             \n",
       "1    Järvenpää        Järvenpää             \n",
       "2  Tampere        Lentävänniemi             \n",
       "3    Helsinki        Taka-Töölö             \n",
       "4         Helsinki            Liisankatu 3  "
      ]
     },
     "execution_count": 12,
     "metadata": {},
     "output_type": "execute_result"
    }
   ],
   "source": [
    "df_cleaned[\"City\"]=df_cleaned['a'].str.split(',').str[0]\n",
    "df_cleaned[\"District\"]=df_cleaned['a'].str.split(',').str[1]\n",
    "df_cleaned[\"Street\"]=df_cleaned['a'].str.split(',').str[2]\n",
    "df_cleaned = df_cleaned.replace(r'\\n',' ', regex=True) \n",
    "df_cleaned[\"City and District\"]=df_cleaned[\"City\"]+df_cleaned[\"District\"]\n",
    "df_cleaned.rename(columns={'a':'Address'}, inplace=True)\n",
    "df_cleaned[\"City\"]=df_cleaned[\"City\"].str.strip()\n",
    "\n",
    "\n",
    "\n",
    "df_cleaned.head()"
   ]
  },
  {
   "cell_type": "markdown",
   "id": "bcba13d2",
   "metadata": {},
   "source": [
    "#### Create Building Type and Area Columns "
   ]
  },
  {
   "cell_type": "code",
   "execution_count": 13,
   "id": "19bfbf54",
   "metadata": {},
   "outputs": [
    {
     "data": {
      "text/html": [
       "<div>\n",
       "<style scoped>\n",
       "    .dataframe tbody tr th:only-of-type {\n",
       "        vertical-align: middle;\n",
       "    }\n",
       "\n",
       "    .dataframe tbody tr th {\n",
       "        vertical-align: top;\n",
       "    }\n",
       "\n",
       "    .dataframe thead th {\n",
       "        text-align: right;\n",
       "    }\n",
       "</style>\n",
       "<table border=\"1\" class=\"dataframe\">\n",
       "  <thead>\n",
       "    <tr style=\"text-align: right;\">\n",
       "      <th></th>\n",
       "      <th>Address</th>\n",
       "      <th>c</th>\n",
       "      <th>d</th>\n",
       "      <th>e</th>\n",
       "      <th>f</th>\n",
       "      <th>g</th>\n",
       "      <th>City</th>\n",
       "      <th>District</th>\n",
       "      <th>Street</th>\n",
       "      <th>City and District</th>\n",
       "      <th>Building Type</th>\n",
       "      <th>Area</th>\n",
       "    </tr>\n",
       "  </thead>\n",
       "  <tbody>\n",
       "    <tr>\n",
       "      <th>0</th>\n",
       "      <td>Turku       , Itäharju           , Ruukinkatu ...</td>\n",
       "      <td>kerrostalo,  m²</td>\n",
       "      <td>NaN</td>\n",
       "      <td>699 €/kk</td>\n",
       "      <td>Vapautuu 16.3.2022</td>\n",
       "      <td>https://track.adform.net/C/?bn=15960635</td>\n",
       "      <td>Turku</td>\n",
       "      <td>Itäharju</td>\n",
       "      <td>Ruukinkatu 1a A</td>\n",
       "      <td>Turku        Itäharju</td>\n",
       "      <td>kerrostalo</td>\n",
       "      <td>NaN</td>\n",
       "    </tr>\n",
       "    <tr>\n",
       "      <th>1</th>\n",
       "      <td>Järvenpää       , Järvenpää           , Metall...</td>\n",
       "      <td>Kerrostalo, 28 m²</td>\n",
       "      <td>1h + ak + lasit. p</td>\n",
       "      <td>735 €/kk</td>\n",
       "      <td>Heti vapaa</td>\n",
       "      <td>https://fiksuvuokraus.fi/asunnonhakijalle</td>\n",
       "      <td>Järvenpää</td>\n",
       "      <td>Järvenpää</td>\n",
       "      <td>Metallimiehenkuja 1</td>\n",
       "      <td>Järvenpää        Järvenpää</td>\n",
       "      <td>kerrostalo</td>\n",
       "      <td>28.0</td>\n",
       "    </tr>\n",
       "    <tr>\n",
       "      <th>2</th>\n",
       "      <td>Tampere       , Lentävänniemi           , Liel...</td>\n",
       "      <td>Kerrostalo, 39,5 m²</td>\n",
       "      <td>2h + kt + kph + vh + r. parvek</td>\n",
       "      <td>670 €/kk</td>\n",
       "      <td>Heti vapaa</td>\n",
       "      <td>https://fiksuvuokraus.fi/asunnonhakijalle</td>\n",
       "      <td>Tampere</td>\n",
       "      <td>Lentävänniemi</td>\n",
       "      <td>Lielahdenkatu 45</td>\n",
       "      <td>Tampere        Lentävänniemi</td>\n",
       "      <td>kerrostalo</td>\n",
       "      <td>39.0</td>\n",
       "    </tr>\n",
       "    <tr>\n",
       "      <th>3</th>\n",
       "      <td>Helsinki       , Taka-Töölö           , Manner...</td>\n",
       "      <td>Kerrostalo, 64,5 m²</td>\n",
       "      <td>2h + avok + p</td>\n",
       "      <td>1 450 €/kk</td>\n",
       "      <td>Heti vapaa</td>\n",
       "      <td>https://fiksuvuokraus.fi/asunnonhakijalle</td>\n",
       "      <td>Helsinki</td>\n",
       "      <td>Taka-Töölö</td>\n",
       "      <td>Mannerheimintie 65</td>\n",
       "      <td>Helsinki        Taka-Töölö</td>\n",
       "      <td>kerrostalo</td>\n",
       "      <td>64.0</td>\n",
       "    </tr>\n",
       "    <tr>\n",
       "      <th>4</th>\n",
       "      <td>Helsinki           , Liisankatu 3</td>\n",
       "      <td>Kerrostalo, 29 m²</td>\n",
       "      <td>1h + kt</td>\n",
       "      <td>855 €/kk</td>\n",
       "      <td>Heti vapaa</td>\n",
       "      <td>https://fiksuvuokraus.fi/asunnonhakijalle</td>\n",
       "      <td>Helsinki</td>\n",
       "      <td>Liisankatu 3</td>\n",
       "      <td>NaN</td>\n",
       "      <td>Helsinki            Liisankatu 3</td>\n",
       "      <td>kerrostalo</td>\n",
       "      <td>29.0</td>\n",
       "    </tr>\n",
       "  </tbody>\n",
       "</table>\n",
       "</div>"
      ],
      "text/plain": [
       "                                             Address                    c  \\\n",
       "0  Turku       , Itäharju           , Ruukinkatu ...      kerrostalo,  m²   \n",
       "1  Järvenpää       , Järvenpää           , Metall...    Kerrostalo, 28 m²   \n",
       "2  Tampere       , Lentävänniemi           , Liel...  Kerrostalo, 39,5 m²   \n",
       "3  Helsinki       , Taka-Töölö           , Manner...  Kerrostalo, 64,5 m²   \n",
       "4                  Helsinki           , Liisankatu 3    Kerrostalo, 29 m²   \n",
       "\n",
       "                                d           e                   f  \\\n",
       "0                             NaN    699 €/kk  Vapautuu 16.3.2022   \n",
       "1              1h + ak + lasit. p    735 €/kk          Heti vapaa   \n",
       "2  2h + kt + kph + vh + r. parvek    670 €/kk          Heti vapaa   \n",
       "3                   2h + avok + p  1 450 €/kk          Heti vapaa   \n",
       "4                         1h + kt    855 €/kk          Heti vapaa   \n",
       "\n",
       "                                           g       City  \\\n",
       "0    https://track.adform.net/C/?bn=15960635      Turku   \n",
       "1  https://fiksuvuokraus.fi/asunnonhakijalle  Järvenpää   \n",
       "2  https://fiksuvuokraus.fi/asunnonhakijalle    Tampere   \n",
       "3  https://fiksuvuokraus.fi/asunnonhakijalle   Helsinki   \n",
       "4  https://fiksuvuokraus.fi/asunnonhakijalle   Helsinki   \n",
       "\n",
       "                    District                Street  \\\n",
       "0        Itäharju                  Ruukinkatu 1a A   \n",
       "1       Järvenpää              Metallimiehenkuja 1   \n",
       "2   Lentävänniemi                 Lielahdenkatu 45   \n",
       "3      Taka-Töölö               Mannerheimintie 65   \n",
       "4               Liisankatu 3                   NaN   \n",
       "\n",
       "                         City and District Building Type  Area  \n",
       "0         Turku        Itäharju               kerrostalo   NaN  \n",
       "1    Järvenpää        Järvenpää               kerrostalo  28.0  \n",
       "2  Tampere        Lentävänniemi               kerrostalo  39.0  \n",
       "3    Helsinki        Taka-Töölö               kerrostalo  64.0  \n",
       "4         Helsinki            Liisankatu 3    kerrostalo  29.0  "
      ]
     },
     "execution_count": 13,
     "metadata": {},
     "output_type": "execute_result"
    }
   ],
   "source": [
    "df_cleaned[\"Building Type\"]=df_cleaned['c'].str.split(',').str[0]\n",
    "df_cleaned[\"Building Type\"]=df_cleaned[\"Building Type\"].str.lower()\n",
    "df_cleaned[\"Area\"]=df_cleaned['c'].str.split(',').str[1:]\n",
    "df_cleaned[\"Area\"]=[','.join(map(str, l)) for l in df_cleaned['Area']]\n",
    "df_cleaned[\"Area\"] = df_cleaned[\"Area\"].str.replace('m²', '')\n",
    "df_cleaned[\"Area\"] = df_cleaned[\"Area\"].str.extract('(\\d+(?:\\.\\d+)?)')\n",
    "df_cleaned[\"Area\"]=df_cleaned[\"Area\"].astype(float)\n",
    "\n",
    "df_cleaned.head()"
   ]
  },
  {
   "cell_type": "markdown",
   "id": "95f41e4c",
   "metadata": {},
   "source": [
    "#### Create Monthly Rent\t column"
   ]
  },
  {
   "cell_type": "code",
   "execution_count": 14,
   "id": "5f7b7b9c",
   "metadata": {},
   "outputs": [
    {
     "data": {
      "text/html": [
       "<div>\n",
       "<style scoped>\n",
       "    .dataframe tbody tr th:only-of-type {\n",
       "        vertical-align: middle;\n",
       "    }\n",
       "\n",
       "    .dataframe tbody tr th {\n",
       "        vertical-align: top;\n",
       "    }\n",
       "\n",
       "    .dataframe thead th {\n",
       "        text-align: right;\n",
       "    }\n",
       "</style>\n",
       "<table border=\"1\" class=\"dataframe\">\n",
       "  <thead>\n",
       "    <tr style=\"text-align: right;\">\n",
       "      <th></th>\n",
       "      <th>Address</th>\n",
       "      <th>c</th>\n",
       "      <th>d</th>\n",
       "      <th>Monthly Rent</th>\n",
       "      <th>f</th>\n",
       "      <th>g</th>\n",
       "      <th>City</th>\n",
       "      <th>District</th>\n",
       "      <th>Street</th>\n",
       "      <th>City and District</th>\n",
       "      <th>Building Type</th>\n",
       "      <th>Area</th>\n",
       "    </tr>\n",
       "  </thead>\n",
       "  <tbody>\n",
       "    <tr>\n",
       "      <th>0</th>\n",
       "      <td>Turku       , Itäharju           , Ruukinkatu ...</td>\n",
       "      <td>kerrostalo,  m²</td>\n",
       "      <td>NaN</td>\n",
       "      <td>699.0</td>\n",
       "      <td>Vapautuu 16.3.2022</td>\n",
       "      <td>https://track.adform.net/C/?bn=15960635</td>\n",
       "      <td>Turku</td>\n",
       "      <td>Itäharju</td>\n",
       "      <td>Ruukinkatu 1a A</td>\n",
       "      <td>Turku        Itäharju</td>\n",
       "      <td>kerrostalo</td>\n",
       "      <td>NaN</td>\n",
       "    </tr>\n",
       "    <tr>\n",
       "      <th>1</th>\n",
       "      <td>Järvenpää       , Järvenpää           , Metall...</td>\n",
       "      <td>Kerrostalo, 28 m²</td>\n",
       "      <td>1h + ak + lasit. p</td>\n",
       "      <td>735.0</td>\n",
       "      <td>Heti vapaa</td>\n",
       "      <td>https://fiksuvuokraus.fi/asunnonhakijalle</td>\n",
       "      <td>Järvenpää</td>\n",
       "      <td>Järvenpää</td>\n",
       "      <td>Metallimiehenkuja 1</td>\n",
       "      <td>Järvenpää        Järvenpää</td>\n",
       "      <td>kerrostalo</td>\n",
       "      <td>28.0</td>\n",
       "    </tr>\n",
       "    <tr>\n",
       "      <th>2</th>\n",
       "      <td>Tampere       , Lentävänniemi           , Liel...</td>\n",
       "      <td>Kerrostalo, 39,5 m²</td>\n",
       "      <td>2h + kt + kph + vh + r. parvek</td>\n",
       "      <td>670.0</td>\n",
       "      <td>Heti vapaa</td>\n",
       "      <td>https://fiksuvuokraus.fi/asunnonhakijalle</td>\n",
       "      <td>Tampere</td>\n",
       "      <td>Lentävänniemi</td>\n",
       "      <td>Lielahdenkatu 45</td>\n",
       "      <td>Tampere        Lentävänniemi</td>\n",
       "      <td>kerrostalo</td>\n",
       "      <td>39.0</td>\n",
       "    </tr>\n",
       "    <tr>\n",
       "      <th>3</th>\n",
       "      <td>Helsinki       , Taka-Töölö           , Manner...</td>\n",
       "      <td>Kerrostalo, 64,5 m²</td>\n",
       "      <td>2h + avok + p</td>\n",
       "      <td>1450.0</td>\n",
       "      <td>Heti vapaa</td>\n",
       "      <td>https://fiksuvuokraus.fi/asunnonhakijalle</td>\n",
       "      <td>Helsinki</td>\n",
       "      <td>Taka-Töölö</td>\n",
       "      <td>Mannerheimintie 65</td>\n",
       "      <td>Helsinki        Taka-Töölö</td>\n",
       "      <td>kerrostalo</td>\n",
       "      <td>64.0</td>\n",
       "    </tr>\n",
       "    <tr>\n",
       "      <th>4</th>\n",
       "      <td>Helsinki           , Liisankatu 3</td>\n",
       "      <td>Kerrostalo, 29 m²</td>\n",
       "      <td>1h + kt</td>\n",
       "      <td>855.0</td>\n",
       "      <td>Heti vapaa</td>\n",
       "      <td>https://fiksuvuokraus.fi/asunnonhakijalle</td>\n",
       "      <td>Helsinki</td>\n",
       "      <td>Liisankatu 3</td>\n",
       "      <td>NaN</td>\n",
       "      <td>Helsinki            Liisankatu 3</td>\n",
       "      <td>kerrostalo</td>\n",
       "      <td>29.0</td>\n",
       "    </tr>\n",
       "  </tbody>\n",
       "</table>\n",
       "</div>"
      ],
      "text/plain": [
       "                                             Address                    c  \\\n",
       "0  Turku       , Itäharju           , Ruukinkatu ...      kerrostalo,  m²   \n",
       "1  Järvenpää       , Järvenpää           , Metall...    Kerrostalo, 28 m²   \n",
       "2  Tampere       , Lentävänniemi           , Liel...  Kerrostalo, 39,5 m²   \n",
       "3  Helsinki       , Taka-Töölö           , Manner...  Kerrostalo, 64,5 m²   \n",
       "4                  Helsinki           , Liisankatu 3    Kerrostalo, 29 m²   \n",
       "\n",
       "                                d  Monthly Rent                   f  \\\n",
       "0                             NaN         699.0  Vapautuu 16.3.2022   \n",
       "1              1h + ak + lasit. p         735.0          Heti vapaa   \n",
       "2  2h + kt + kph + vh + r. parvek         670.0          Heti vapaa   \n",
       "3                   2h + avok + p        1450.0          Heti vapaa   \n",
       "4                         1h + kt         855.0          Heti vapaa   \n",
       "\n",
       "                                           g       City  \\\n",
       "0    https://track.adform.net/C/?bn=15960635      Turku   \n",
       "1  https://fiksuvuokraus.fi/asunnonhakijalle  Järvenpää   \n",
       "2  https://fiksuvuokraus.fi/asunnonhakijalle    Tampere   \n",
       "3  https://fiksuvuokraus.fi/asunnonhakijalle   Helsinki   \n",
       "4  https://fiksuvuokraus.fi/asunnonhakijalle   Helsinki   \n",
       "\n",
       "                    District                Street  \\\n",
       "0        Itäharju                  Ruukinkatu 1a A   \n",
       "1       Järvenpää              Metallimiehenkuja 1   \n",
       "2   Lentävänniemi                 Lielahdenkatu 45   \n",
       "3      Taka-Töölö               Mannerheimintie 65   \n",
       "4               Liisankatu 3                   NaN   \n",
       "\n",
       "                         City and District Building Type  Area  \n",
       "0         Turku        Itäharju               kerrostalo   NaN  \n",
       "1    Järvenpää        Järvenpää               kerrostalo  28.0  \n",
       "2  Tampere        Lentävänniemi               kerrostalo  39.0  \n",
       "3    Helsinki        Taka-Töölö               kerrostalo  64.0  \n",
       "4         Helsinki            Liisankatu 3    kerrostalo  29.0  "
      ]
     },
     "execution_count": 14,
     "metadata": {},
     "output_type": "execute_result"
    }
   ],
   "source": [
    "df_cleaned[\"e\"] = df_cleaned[\"e\"].str.replace(\"\\s\",\"\", regex=True)\n",
    "df_cleaned[\"e\"]=df_cleaned[\"e\"].str.extract('(\\d+)')\n",
    "df_cleaned.rename(columns={'e':'Monthly Rent'}, inplace=True)\n",
    "df_cleaned[\"Monthly Rent\"]=df_cleaned[\"Monthly Rent\"].astype(float)\n",
    "\n",
    "\n",
    "\n",
    "df_cleaned.head()"
   ]
  },
  {
   "cell_type": "markdown",
   "id": "5ad5e540",
   "metadata": {},
   "source": [
    "#### Create Company column"
   ]
  },
  {
   "cell_type": "code",
   "execution_count": 15,
   "id": "19345df3",
   "metadata": {},
   "outputs": [
    {
     "data": {
      "text/html": [
       "<div>\n",
       "<style scoped>\n",
       "    .dataframe tbody tr th:only-of-type {\n",
       "        vertical-align: middle;\n",
       "    }\n",
       "\n",
       "    .dataframe tbody tr th {\n",
       "        vertical-align: top;\n",
       "    }\n",
       "\n",
       "    .dataframe thead th {\n",
       "        text-align: right;\n",
       "    }\n",
       "</style>\n",
       "<table border=\"1\" class=\"dataframe\">\n",
       "  <thead>\n",
       "    <tr style=\"text-align: right;\">\n",
       "      <th></th>\n",
       "      <th>Address</th>\n",
       "      <th>c</th>\n",
       "      <th>d</th>\n",
       "      <th>Monthly Rent</th>\n",
       "      <th>f</th>\n",
       "      <th>g</th>\n",
       "      <th>City</th>\n",
       "      <th>District</th>\n",
       "      <th>Street</th>\n",
       "      <th>City and District</th>\n",
       "      <th>Building Type</th>\n",
       "      <th>Area</th>\n",
       "      <th>Company</th>\n",
       "    </tr>\n",
       "  </thead>\n",
       "  <tbody>\n",
       "    <tr>\n",
       "      <th>0</th>\n",
       "      <td>Turku       , Itäharju           , Ruukinkatu ...</td>\n",
       "      <td>kerrostalo,  m²</td>\n",
       "      <td>NaN</td>\n",
       "      <td>699.0</td>\n",
       "      <td>Vapautuu 16.3.2022</td>\n",
       "      <td>https://track.adform.net/C/?bn=15960635</td>\n",
       "      <td>Turku</td>\n",
       "      <td>Itäharju</td>\n",
       "      <td>Ruukinkatu 1a A</td>\n",
       "      <td>Turku        Itäharju</td>\n",
       "      <td>kerrostalo</td>\n",
       "      <td>NaN</td>\n",
       "      <td>track.adform.net</td>\n",
       "    </tr>\n",
       "    <tr>\n",
       "      <th>1</th>\n",
       "      <td>Järvenpää       , Järvenpää           , Metall...</td>\n",
       "      <td>Kerrostalo, 28 m²</td>\n",
       "      <td>1h + ak + lasit. p</td>\n",
       "      <td>735.0</td>\n",
       "      <td>Heti vapaa</td>\n",
       "      <td>https://fiksuvuokraus.fi/asunnonhakijalle</td>\n",
       "      <td>Järvenpää</td>\n",
       "      <td>Järvenpää</td>\n",
       "      <td>Metallimiehenkuja 1</td>\n",
       "      <td>Järvenpää        Järvenpää</td>\n",
       "      <td>kerrostalo</td>\n",
       "      <td>28.0</td>\n",
       "      <td>fiksuvuokraus.fi</td>\n",
       "    </tr>\n",
       "    <tr>\n",
       "      <th>2</th>\n",
       "      <td>Tampere       , Lentävänniemi           , Liel...</td>\n",
       "      <td>Kerrostalo, 39,5 m²</td>\n",
       "      <td>2h + kt + kph + vh + r. parvek</td>\n",
       "      <td>670.0</td>\n",
       "      <td>Heti vapaa</td>\n",
       "      <td>https://fiksuvuokraus.fi/asunnonhakijalle</td>\n",
       "      <td>Tampere</td>\n",
       "      <td>Lentävänniemi</td>\n",
       "      <td>Lielahdenkatu 45</td>\n",
       "      <td>Tampere        Lentävänniemi</td>\n",
       "      <td>kerrostalo</td>\n",
       "      <td>39.0</td>\n",
       "      <td>fiksuvuokraus.fi</td>\n",
       "    </tr>\n",
       "    <tr>\n",
       "      <th>3</th>\n",
       "      <td>Helsinki       , Taka-Töölö           , Manner...</td>\n",
       "      <td>Kerrostalo, 64,5 m²</td>\n",
       "      <td>2h + avok + p</td>\n",
       "      <td>1450.0</td>\n",
       "      <td>Heti vapaa</td>\n",
       "      <td>https://fiksuvuokraus.fi/asunnonhakijalle</td>\n",
       "      <td>Helsinki</td>\n",
       "      <td>Taka-Töölö</td>\n",
       "      <td>Mannerheimintie 65</td>\n",
       "      <td>Helsinki        Taka-Töölö</td>\n",
       "      <td>kerrostalo</td>\n",
       "      <td>64.0</td>\n",
       "      <td>fiksuvuokraus.fi</td>\n",
       "    </tr>\n",
       "    <tr>\n",
       "      <th>4</th>\n",
       "      <td>Helsinki           , Liisankatu 3</td>\n",
       "      <td>Kerrostalo, 29 m²</td>\n",
       "      <td>1h + kt</td>\n",
       "      <td>855.0</td>\n",
       "      <td>Heti vapaa</td>\n",
       "      <td>https://fiksuvuokraus.fi/asunnonhakijalle</td>\n",
       "      <td>Helsinki</td>\n",
       "      <td>Liisankatu 3</td>\n",
       "      <td>NaN</td>\n",
       "      <td>Helsinki            Liisankatu 3</td>\n",
       "      <td>kerrostalo</td>\n",
       "      <td>29.0</td>\n",
       "      <td>fiksuvuokraus.fi</td>\n",
       "    </tr>\n",
       "  </tbody>\n",
       "</table>\n",
       "</div>"
      ],
      "text/plain": [
       "                                             Address                    c  \\\n",
       "0  Turku       , Itäharju           , Ruukinkatu ...      kerrostalo,  m²   \n",
       "1  Järvenpää       , Järvenpää           , Metall...    Kerrostalo, 28 m²   \n",
       "2  Tampere       , Lentävänniemi           , Liel...  Kerrostalo, 39,5 m²   \n",
       "3  Helsinki       , Taka-Töölö           , Manner...  Kerrostalo, 64,5 m²   \n",
       "4                  Helsinki           , Liisankatu 3    Kerrostalo, 29 m²   \n",
       "\n",
       "                                d  Monthly Rent                   f  \\\n",
       "0                             NaN         699.0  Vapautuu 16.3.2022   \n",
       "1              1h + ak + lasit. p         735.0          Heti vapaa   \n",
       "2  2h + kt + kph + vh + r. parvek         670.0          Heti vapaa   \n",
       "3                   2h + avok + p        1450.0          Heti vapaa   \n",
       "4                         1h + kt         855.0          Heti vapaa   \n",
       "\n",
       "                                           g       City  \\\n",
       "0    https://track.adform.net/C/?bn=15960635      Turku   \n",
       "1  https://fiksuvuokraus.fi/asunnonhakijalle  Järvenpää   \n",
       "2  https://fiksuvuokraus.fi/asunnonhakijalle    Tampere   \n",
       "3  https://fiksuvuokraus.fi/asunnonhakijalle   Helsinki   \n",
       "4  https://fiksuvuokraus.fi/asunnonhakijalle   Helsinki   \n",
       "\n",
       "                    District                Street  \\\n",
       "0        Itäharju                  Ruukinkatu 1a A   \n",
       "1       Järvenpää              Metallimiehenkuja 1   \n",
       "2   Lentävänniemi                 Lielahdenkatu 45   \n",
       "3      Taka-Töölö               Mannerheimintie 65   \n",
       "4               Liisankatu 3                   NaN   \n",
       "\n",
       "                         City and District Building Type  Area  \\\n",
       "0         Turku        Itäharju               kerrostalo   NaN   \n",
       "1    Järvenpää        Järvenpää               kerrostalo  28.0   \n",
       "2  Tampere        Lentävänniemi               kerrostalo  39.0   \n",
       "3    Helsinki        Taka-Töölö               kerrostalo  64.0   \n",
       "4         Helsinki            Liisankatu 3    kerrostalo  29.0   \n",
       "\n",
       "            Company  \n",
       "0  track.adform.net  \n",
       "1  fiksuvuokraus.fi  \n",
       "2  fiksuvuokraus.fi  \n",
       "3  fiksuvuokraus.fi  \n",
       "4  fiksuvuokraus.fi  "
      ]
     },
     "execution_count": 15,
     "metadata": {},
     "output_type": "execute_result"
    }
   ],
   "source": [
    "df_cleaned[\"Company\"]=df_cleaned['g'].str.split('/').str[2]\n",
    "df_cleaned.head()"
   ]
  },
  {
   "cell_type": "markdown",
   "id": "8193d85d",
   "metadata": {},
   "source": [
    "#### Create Rooms Number and Available columns"
   ]
  },
  {
   "cell_type": "code",
   "execution_count": 16,
   "id": "54b69e33",
   "metadata": {},
   "outputs": [
    {
     "data": {
      "text/html": [
       "<div>\n",
       "<style scoped>\n",
       "    .dataframe tbody tr th:only-of-type {\n",
       "        vertical-align: middle;\n",
       "    }\n",
       "\n",
       "    .dataframe tbody tr th {\n",
       "        vertical-align: top;\n",
       "    }\n",
       "\n",
       "    .dataframe thead th {\n",
       "        text-align: right;\n",
       "    }\n",
       "</style>\n",
       "<table border=\"1\" class=\"dataframe\">\n",
       "  <thead>\n",
       "    <tr style=\"text-align: right;\">\n",
       "      <th></th>\n",
       "      <th>Monthly Rent</th>\n",
       "      <th>Available</th>\n",
       "      <th>City</th>\n",
       "      <th>District</th>\n",
       "      <th>Street</th>\n",
       "      <th>City and District</th>\n",
       "      <th>Building Type</th>\n",
       "      <th>Area</th>\n",
       "      <th>Company</th>\n",
       "      <th>Rooms Number</th>\n",
       "    </tr>\n",
       "  </thead>\n",
       "  <tbody>\n",
       "    <tr>\n",
       "      <th>0</th>\n",
       "      <td>699.0</td>\n",
       "      <td>Vapautuu</td>\n",
       "      <td>Turku</td>\n",
       "      <td>Itäharju</td>\n",
       "      <td>Ruukinkatu 1a A</td>\n",
       "      <td>Turku        Itäharju</td>\n",
       "      <td>kerrostalo</td>\n",
       "      <td>NaN</td>\n",
       "      <td>track.adform.net</td>\n",
       "      <td>NaN</td>\n",
       "    </tr>\n",
       "    <tr>\n",
       "      <th>1</th>\n",
       "      <td>735.0</td>\n",
       "      <td>Heti vapaa</td>\n",
       "      <td>Järvenpää</td>\n",
       "      <td>Järvenpää</td>\n",
       "      <td>Metallimiehenkuja 1</td>\n",
       "      <td>Järvenpää        Järvenpää</td>\n",
       "      <td>kerrostalo</td>\n",
       "      <td>28.0</td>\n",
       "      <td>fiksuvuokraus.fi</td>\n",
       "      <td>1.0</td>\n",
       "    </tr>\n",
       "    <tr>\n",
       "      <th>2</th>\n",
       "      <td>670.0</td>\n",
       "      <td>Heti vapaa</td>\n",
       "      <td>Tampere</td>\n",
       "      <td>Lentävänniemi</td>\n",
       "      <td>Lielahdenkatu 45</td>\n",
       "      <td>Tampere        Lentävänniemi</td>\n",
       "      <td>kerrostalo</td>\n",
       "      <td>39.0</td>\n",
       "      <td>fiksuvuokraus.fi</td>\n",
       "      <td>2.0</td>\n",
       "    </tr>\n",
       "    <tr>\n",
       "      <th>3</th>\n",
       "      <td>1450.0</td>\n",
       "      <td>Heti vapaa</td>\n",
       "      <td>Helsinki</td>\n",
       "      <td>Taka-Töölö</td>\n",
       "      <td>Mannerheimintie 65</td>\n",
       "      <td>Helsinki        Taka-Töölö</td>\n",
       "      <td>kerrostalo</td>\n",
       "      <td>64.0</td>\n",
       "      <td>fiksuvuokraus.fi</td>\n",
       "      <td>2.0</td>\n",
       "    </tr>\n",
       "    <tr>\n",
       "      <th>4</th>\n",
       "      <td>855.0</td>\n",
       "      <td>Heti vapaa</td>\n",
       "      <td>Helsinki</td>\n",
       "      <td>Liisankatu 3</td>\n",
       "      <td>NaN</td>\n",
       "      <td>Helsinki            Liisankatu 3</td>\n",
       "      <td>kerrostalo</td>\n",
       "      <td>29.0</td>\n",
       "      <td>fiksuvuokraus.fi</td>\n",
       "      <td>1.0</td>\n",
       "    </tr>\n",
       "  </tbody>\n",
       "</table>\n",
       "</div>"
      ],
      "text/plain": [
       "   Monthly Rent   Available       City                   District  \\\n",
       "0         699.0    Vapautuu      Turku        Itäharju              \n",
       "1         735.0  Heti vapaa  Järvenpää       Järvenpää              \n",
       "2         670.0  Heti vapaa    Tampere   Lentävänniemi              \n",
       "3        1450.0  Heti vapaa   Helsinki      Taka-Töölö              \n",
       "4         855.0  Heti vapaa   Helsinki               Liisankatu 3   \n",
       "\n",
       "                 Street                        City and District  \\\n",
       "0       Ruukinkatu 1a A         Turku        Itäharju              \n",
       "1   Metallimiehenkuja 1    Järvenpää        Järvenpää              \n",
       "2      Lielahdenkatu 45  Tampere        Lentävänniemi              \n",
       "3    Mannerheimintie 65    Helsinki        Taka-Töölö              \n",
       "4                   NaN         Helsinki            Liisankatu 3   \n",
       "\n",
       "  Building Type  Area           Company  Rooms Number  \n",
       "0    kerrostalo   NaN  track.adform.net           NaN  \n",
       "1    kerrostalo  28.0  fiksuvuokraus.fi           1.0  \n",
       "2    kerrostalo  39.0  fiksuvuokraus.fi           2.0  \n",
       "3    kerrostalo  64.0  fiksuvuokraus.fi           2.0  \n",
       "4    kerrostalo  29.0  fiksuvuokraus.fi           1.0  "
      ]
     },
     "execution_count": 16,
     "metadata": {},
     "output_type": "execute_result"
    }
   ],
   "source": [
    "df_cleaned[\"Rooms Number\"]=df_cleaned['d'].str.split('+').str[0]\n",
    "df_cleaned[\"Rooms Number\"]=df_cleaned[\"Rooms Number\"].str.extract('(\\d+)')\n",
    "df_cleaned[\"Rooms Number\"]=df_cleaned[\"Rooms Number\"].astype(float)\n",
    "df_cleaned[\"Rooms Number\"]=df_cleaned[\"Rooms Number\"].astype(float)\n",
    "df_cleaned.rename(columns={'f':'Available'}, inplace=True)\n",
    "df_cleaned=df_cleaned.drop(columns=['Address', 'c','d',\"g\"])\n",
    "df_cleaned.loc[df_cleaned[\"Available\"].str.startswith(\"Vapautuu\",na=False), 'Available'] = \"Vapautuu\"\n",
    "df_cleaned.loc[df_cleaned[\"Available\"].str.startswith(\"Esittely\",na=False), 'Available'] = \"Esittely\"\n",
    "df_cleaned.head()"
   ]
  },
  {
   "cell_type": "markdown",
   "id": "5c9d21cd",
   "metadata": {},
   "source": [
    "**Viewing data types after mainpulating the data**"
   ]
  },
  {
   "cell_type": "code",
   "execution_count": 17,
   "id": "f857ad31",
   "metadata": {
    "scrolled": true
   },
   "outputs": [
    {
     "data": {
      "text/plain": [
       "Monthly Rent         float64\n",
       "Available             object\n",
       "City                  object\n",
       "District              object\n",
       "Street                object\n",
       "City and District     object\n",
       "Building Type         object\n",
       "Area                 float64\n",
       "Company               object\n",
       "Rooms Number         float64\n",
       "dtype: object"
      ]
     },
     "execution_count": 17,
     "metadata": {},
     "output_type": "execute_result"
    }
   ],
   "source": [
    "df_cleaned.dtypes"
   ]
  },
  {
   "cell_type": "markdown",
   "id": "408c6fa5",
   "metadata": {},
   "source": [
    "**Copy the cleaned dataframe to new dataframe called \"rental\"**"
   ]
  },
  {
   "cell_type": "code",
   "execution_count": 18,
   "id": "c39e1da7",
   "metadata": {},
   "outputs": [],
   "source": [
    "rental=df_cleaned.copy()"
   ]
  },
  {
   "cell_type": "markdown",
   "id": "c464e266",
   "metadata": {},
   "source": [
    "Viewing the first five rows:\n"
   ]
  },
  {
   "cell_type": "code",
   "execution_count": 19,
   "id": "ec8e38a7",
   "metadata": {
    "scrolled": false
   },
   "outputs": [
    {
     "data": {
      "text/html": [
       "<div>\n",
       "<style scoped>\n",
       "    .dataframe tbody tr th:only-of-type {\n",
       "        vertical-align: middle;\n",
       "    }\n",
       "\n",
       "    .dataframe tbody tr th {\n",
       "        vertical-align: top;\n",
       "    }\n",
       "\n",
       "    .dataframe thead th {\n",
       "        text-align: right;\n",
       "    }\n",
       "</style>\n",
       "<table border=\"1\" class=\"dataframe\">\n",
       "  <thead>\n",
       "    <tr style=\"text-align: right;\">\n",
       "      <th></th>\n",
       "      <th>Monthly Rent</th>\n",
       "      <th>Available</th>\n",
       "      <th>City</th>\n",
       "      <th>District</th>\n",
       "      <th>Street</th>\n",
       "      <th>City and District</th>\n",
       "      <th>Building Type</th>\n",
       "      <th>Area</th>\n",
       "      <th>Company</th>\n",
       "      <th>Rooms Number</th>\n",
       "    </tr>\n",
       "  </thead>\n",
       "  <tbody>\n",
       "    <tr>\n",
       "      <th>0</th>\n",
       "      <td>699.0</td>\n",
       "      <td>Vapautuu</td>\n",
       "      <td>Turku</td>\n",
       "      <td>Itäharju</td>\n",
       "      <td>Ruukinkatu 1a A</td>\n",
       "      <td>Turku        Itäharju</td>\n",
       "      <td>kerrostalo</td>\n",
       "      <td>NaN</td>\n",
       "      <td>track.adform.net</td>\n",
       "      <td>NaN</td>\n",
       "    </tr>\n",
       "    <tr>\n",
       "      <th>1</th>\n",
       "      <td>735.0</td>\n",
       "      <td>Heti vapaa</td>\n",
       "      <td>Järvenpää</td>\n",
       "      <td>Järvenpää</td>\n",
       "      <td>Metallimiehenkuja 1</td>\n",
       "      <td>Järvenpää        Järvenpää</td>\n",
       "      <td>kerrostalo</td>\n",
       "      <td>28.0</td>\n",
       "      <td>fiksuvuokraus.fi</td>\n",
       "      <td>1.0</td>\n",
       "    </tr>\n",
       "    <tr>\n",
       "      <th>2</th>\n",
       "      <td>670.0</td>\n",
       "      <td>Heti vapaa</td>\n",
       "      <td>Tampere</td>\n",
       "      <td>Lentävänniemi</td>\n",
       "      <td>Lielahdenkatu 45</td>\n",
       "      <td>Tampere        Lentävänniemi</td>\n",
       "      <td>kerrostalo</td>\n",
       "      <td>39.0</td>\n",
       "      <td>fiksuvuokraus.fi</td>\n",
       "      <td>2.0</td>\n",
       "    </tr>\n",
       "    <tr>\n",
       "      <th>3</th>\n",
       "      <td>1450.0</td>\n",
       "      <td>Heti vapaa</td>\n",
       "      <td>Helsinki</td>\n",
       "      <td>Taka-Töölö</td>\n",
       "      <td>Mannerheimintie 65</td>\n",
       "      <td>Helsinki        Taka-Töölö</td>\n",
       "      <td>kerrostalo</td>\n",
       "      <td>64.0</td>\n",
       "      <td>fiksuvuokraus.fi</td>\n",
       "      <td>2.0</td>\n",
       "    </tr>\n",
       "    <tr>\n",
       "      <th>4</th>\n",
       "      <td>855.0</td>\n",
       "      <td>Heti vapaa</td>\n",
       "      <td>Helsinki</td>\n",
       "      <td>Liisankatu 3</td>\n",
       "      <td>NaN</td>\n",
       "      <td>Helsinki            Liisankatu 3</td>\n",
       "      <td>kerrostalo</td>\n",
       "      <td>29.0</td>\n",
       "      <td>fiksuvuokraus.fi</td>\n",
       "      <td>1.0</td>\n",
       "    </tr>\n",
       "  </tbody>\n",
       "</table>\n",
       "</div>"
      ],
      "text/plain": [
       "   Monthly Rent   Available       City                   District  \\\n",
       "0         699.0    Vapautuu      Turku        Itäharju              \n",
       "1         735.0  Heti vapaa  Järvenpää       Järvenpää              \n",
       "2         670.0  Heti vapaa    Tampere   Lentävänniemi              \n",
       "3        1450.0  Heti vapaa   Helsinki      Taka-Töölö              \n",
       "4         855.0  Heti vapaa   Helsinki               Liisankatu 3   \n",
       "\n",
       "                 Street                        City and District  \\\n",
       "0       Ruukinkatu 1a A         Turku        Itäharju              \n",
       "1   Metallimiehenkuja 1    Järvenpää        Järvenpää              \n",
       "2      Lielahdenkatu 45  Tampere        Lentävänniemi              \n",
       "3    Mannerheimintie 65    Helsinki        Taka-Töölö              \n",
       "4                   NaN         Helsinki            Liisankatu 3   \n",
       "\n",
       "  Building Type  Area           Company  Rooms Number  \n",
       "0    kerrostalo   NaN  track.adform.net           NaN  \n",
       "1    kerrostalo  28.0  fiksuvuokraus.fi           1.0  \n",
       "2    kerrostalo  39.0  fiksuvuokraus.fi           2.0  \n",
       "3    kerrostalo  64.0  fiksuvuokraus.fi           2.0  \n",
       "4    kerrostalo  29.0  fiksuvuokraus.fi           1.0  "
      ]
     },
     "execution_count": 19,
     "metadata": {},
     "output_type": "execute_result"
    }
   ],
   "source": [
    "rental.head()"
   ]
  },
  {
   "cell_type": "markdown",
   "id": "77f82887",
   "metadata": {},
   "source": [
    "## Column Descriptions\n",
    "### A brief description of all columns in the cleaned DataFrame:\n",
    "\n",
    "**Monthly Rent:** The monthly rent in Euro\n",
    "\n",
    "**Available:** The availability of rental \n",
    "\n",
    "**City:** The city where the real estate was posted \n",
    "\n",
    "**District:** The district where the real estate was posted \n",
    "\n",
    "**Street:** The street where the real estate was posted \n",
    "\n",
    "**City and District:**  The city and district where the real estate was posted , I use this column to acquire the latitude and longitude\n",
    "\n",
    "**Building Type:** The type of building \n",
    "\n",
    "**Area:** The area of the real state in squared meter\n",
    "\n",
    "**Company:** The website of the company poste the listing \n",
    "\n",
    "**Rooms Number:** Room number in the real state "
   ]
  },
  {
   "cell_type": "markdown",
   "id": "882b7bde",
   "metadata": {},
   "source": [
    "### Looking at the Null values"
   ]
  },
  {
   "cell_type": "code",
   "execution_count": 20,
   "id": "723c4a6e",
   "metadata": {
    "scrolled": false
   },
   "outputs": [
    {
     "name": "stdout",
     "output_type": "stream",
     "text": [
      "Null values in vuokraovi dataset: \n",
      "\n",
      "Monthly Rent            2\n",
      "Available             582\n",
      "City                    0\n",
      "District                0\n",
      "Street               1476\n",
      "City and District       0\n",
      "Building Type           0\n",
      "Area                   41\n",
      "Company              1841\n",
      "Rooms Number          478\n",
      "dtype: int64\n"
     ]
    }
   ],
   "source": [
    "print('Null values in vuokraovi dataset: \\n')\n",
    "print(rental.isnull().sum())"
   ]
  },
  {
   "cell_type": "markdown",
   "id": "61760d1a",
   "metadata": {},
   "source": [
    "**The null values in \"Street\" column are the listings where didn't have \"District\" in the original listing ,I can't  acquire the latitude and longitude for these values so I drop them** "
   ]
  },
  {
   "cell_type": "markdown",
   "id": "713f542f",
   "metadata": {},
   "source": [
    "### Dropping null values"
   ]
  },
  {
   "cell_type": "code",
   "execution_count": 21,
   "id": "23e117e9",
   "metadata": {},
   "outputs": [],
   "source": [
    "rental=rental.dropna(subset=[\"Monthly Rent\",\"Area\",\"Street\"])\n"
   ]
  },
  {
   "cell_type": "markdown",
   "id": "06c249e9",
   "metadata": {},
   "source": [
    "#### Looking at the final shape"
   ]
  },
  {
   "cell_type": "code",
   "execution_count": 22,
   "id": "ee47eb94",
   "metadata": {},
   "outputs": [
    {
     "data": {
      "text/plain": [
       "(18736, 10)"
      ]
     },
     "execution_count": 22,
     "metadata": {},
     "output_type": "execute_result"
    }
   ],
   "source": [
    "rental.shape"
   ]
  },
  {
   "cell_type": "markdown",
   "id": "d4614333",
   "metadata": {},
   "source": [
    "## 2.Exploratory Data Analysis\n",
    "#### 2.1 Describing numeric columns "
   ]
  },
  {
   "cell_type": "code",
   "execution_count": 23,
   "id": "57b50c1b",
   "metadata": {},
   "outputs": [
    {
     "data": {
      "text/html": [
       "<div>\n",
       "<style scoped>\n",
       "    .dataframe tbody tr th:only-of-type {\n",
       "        vertical-align: middle;\n",
       "    }\n",
       "\n",
       "    .dataframe tbody tr th {\n",
       "        vertical-align: top;\n",
       "    }\n",
       "\n",
       "    .dataframe thead th {\n",
       "        text-align: right;\n",
       "    }\n",
       "</style>\n",
       "<table border=\"1\" class=\"dataframe\">\n",
       "  <thead>\n",
       "    <tr style=\"text-align: right;\">\n",
       "      <th></th>\n",
       "      <th>Monthly Rent</th>\n",
       "      <th>Area</th>\n",
       "      <th>Rooms Number</th>\n",
       "    </tr>\n",
       "  </thead>\n",
       "  <tbody>\n",
       "    <tr>\n",
       "      <th>count</th>\n",
       "      <td>18736.000000</td>\n",
       "      <td>18736.000000</td>\n",
       "      <td>18364.000000</td>\n",
       "    </tr>\n",
       "    <tr>\n",
       "      <th>mean</th>\n",
       "      <td>858.087639</td>\n",
       "      <td>50.657398</td>\n",
       "      <td>2.209431</td>\n",
       "    </tr>\n",
       "    <tr>\n",
       "      <th>std</th>\n",
       "      <td>1335.928885</td>\n",
       "      <td>24.675017</td>\n",
       "      <td>15.136106</td>\n",
       "    </tr>\n",
       "    <tr>\n",
       "      <th>min</th>\n",
       "      <td>0.000000</td>\n",
       "      <td>0.000000</td>\n",
       "      <td>1.000000</td>\n",
       "    </tr>\n",
       "    <tr>\n",
       "      <th>25%</th>\n",
       "      <td>615.000000</td>\n",
       "      <td>35.000000</td>\n",
       "      <td>1.000000</td>\n",
       "    </tr>\n",
       "    <tr>\n",
       "      <th>50%</th>\n",
       "      <td>785.000000</td>\n",
       "      <td>48.000000</td>\n",
       "      <td>2.000000</td>\n",
       "    </tr>\n",
       "    <tr>\n",
       "      <th>75%</th>\n",
       "      <td>950.250000</td>\n",
       "      <td>61.000000</td>\n",
       "      <td>2.000000</td>\n",
       "    </tr>\n",
       "    <tr>\n",
       "      <th>max</th>\n",
       "      <td>123456.000000</td>\n",
       "      <td>866.000000</td>\n",
       "      <td>2021.000000</td>\n",
       "    </tr>\n",
       "  </tbody>\n",
       "</table>\n",
       "</div>"
      ],
      "text/plain": [
       "        Monthly Rent          Area  Rooms Number\n",
       "count   18736.000000  18736.000000  18364.000000\n",
       "mean      858.087639     50.657398      2.209431\n",
       "std      1335.928885     24.675017     15.136106\n",
       "min         0.000000      0.000000      1.000000\n",
       "25%       615.000000     35.000000      1.000000\n",
       "50%       785.000000     48.000000      2.000000\n",
       "75%       950.250000     61.000000      2.000000\n",
       "max    123456.000000    866.000000   2021.000000"
      ]
     },
     "execution_count": 23,
     "metadata": {},
     "output_type": "execute_result"
    }
   ],
   "source": [
    "rental.describe()"
   ]
  },
  {
   "cell_type": "markdown",
   "id": "5ea664bb",
   "metadata": {},
   "source": [
    "The mean monthly rent for all types of building types all over finland is around 858 euro , 50.6 squared meters for area and around 2 rooms .\n",
    "\n",
    "#### Get rid of extreme Outliers "
   ]
  },
  {
   "cell_type": "code",
   "execution_count": 24,
   "id": "a617ee35",
   "metadata": {},
   "outputs": [],
   "source": [
    "rental=rental[rental[\"Rooms Number\"] < 9.0]\n",
    "rental=rental[rental[\"Monthly Rent\"] < 10000.0]\n",
    "rental=rental[rental[\"Monthly Rent\"] > 300]\n",
    "rental.reset_index(drop=True, inplace=True)\n"
   ]
  },
  {
   "cell_type": "markdown",
   "id": "fd0f2e08",
   "metadata": {},
   "source": [
    "#### Explore \"Available\" Column "
   ]
  },
  {
   "cell_type": "code",
   "execution_count": 25,
   "id": "f13f54c1",
   "metadata": {},
   "outputs": [
    {
     "name": "stdout",
     "output_type": "stream",
     "text": [
      "4\n",
      "\n",
      "\n",
      "Heti vapaa           9167\n",
      "Vapautuu             7491\n",
      "Sopimuksen mukaan    1041\n",
      "Esittely                2\n",
      "Name: Available, dtype: int64\n"
     ]
    }
   ],
   "source": [
    "print(rental[\"Available\"].nunique())\n",
    "print('\\n')\n",
    "print(rental[\"Available\"].value_counts())"
   ]
  },
  {
   "cell_type": "markdown",
   "id": "56463b09",
   "metadata": {},
   "source": [
    "4 Unique Values in \"Available\" Column ,\"Heti vapaa\" > available immediately for renting ,\"Vapautuu\" > will be available on specific date , \"Sopimuksen mukaan\" > depend on agreement with the owner\n"
   ]
  },
  {
   "cell_type": "markdown",
   "id": "917f81a0",
   "metadata": {},
   "source": [
    "#### Explore \"City\" Column "
   ]
  },
  {
   "cell_type": "code",
   "execution_count": 26,
   "id": "ba6c3531",
   "metadata": {},
   "outputs": [
    {
     "name": "stdout",
     "output_type": "stream",
     "text": [
      "194\n",
      "\n",
      "\n",
      "Helsinki           4035\n",
      "Espoo              2263\n",
      "Vantaa             2026\n",
      "Tampere            1079\n",
      "Jyväskylä           972\n",
      "Turku               908\n",
      "Oulu                692\n",
      "Pori                539\n",
      "Lahti               536\n",
      "Kuopio              433\n",
      "Vaasa               358\n",
      "Kerava              314\n",
      "Järvenpää           223\n",
      "Rovaniemi           205\n",
      "Lappeenranta        190\n",
      "Kirkkonummi         176\n",
      "Rauma               149\n",
      "Kotka               147\n",
      "Hämeenlinna         134\n",
      "Mikkeli             133\n",
      "Seinäjoki           122\n",
      "Hyvinkää            107\n",
      "Nurmijärvi          104\n",
      "Joensuu              95\n",
      "Tuusula              84\n",
      "Porvoo               81\n",
      "Kankaanpää           77\n",
      "Nokia                74\n",
      "Lohja                64\n",
      "Pirkkala             63\n",
      "Riihimäki            55\n",
      "Varkaus              51\n",
      "Kouvola              50\n",
      "Sastamala            48\n",
      "Valkeakoski          48\n",
      "Sipoo                48\n",
      "Kokkola              46\n",
      "Forssa               45\n",
      "Heinola              44\n",
      "Imatra               44\n",
      "Raisio               43\n",
      "Jämsä                42\n",
      "Hamina               42\n",
      "Kemi                 40\n",
      "Vihti                39\n",
      "Kangasala            39\n",
      "Loviisa              37\n",
      "Harjavalta           33\n",
      "Iisalmi              32\n",
      "Ulvila               32\n",
      "Lapua                31\n",
      "Mäntsälä             30\n",
      "Outokumpu            27\n",
      "Salo                 26\n",
      "Savonlinna           26\n",
      "Tornio               24\n",
      "Siilinjärvi          24\n",
      "Hollola              23\n",
      "Janakkala            23\n",
      "Kajaani              22\n",
      "Lempäälä             20\n",
      "Ylöjärvi             20\n",
      "Pietarsaari          20\n",
      "Pieksämäki           16\n",
      "Raahe                16\n",
      "Äänekoski            15\n",
      "Kaarina              15\n",
      "Hausjärvi            15\n",
      "Uusikaupunki         14\n",
      "Akaa                 14\n",
      "Orivesi              14\n",
      "Naantali             13\n",
      "Nakkila              13\n",
      "Kemiönsaari          13\n",
      "Kauhajoki            12\n",
      "Alavus               12\n",
      "Raasepori            12\n",
      "Saarijärvi           11\n",
      "Hämeenkyrö           10\n",
      "Mustasaari           10\n",
      "Kauhava               9\n",
      "Orimattila            9\n",
      "Laukaa                9\n",
      "Paimio                9\n",
      "Laihia                9\n",
      "Muurame               9\n",
      "Parkano               9\n",
      "Lieto                 9\n",
      "Haapavesi             9\n",
      "Mänttä-Vilppula       8\n",
      "Pyhäjoki              8\n",
      "Eurajoki              8\n",
      "Kontiolahti           7\n",
      "Kempele               7\n",
      "Muhos                 7\n",
      "Oulainen              7\n",
      "Veteli                7\n",
      "Lieksa                7\n",
      "Inari                 7\n",
      "Kauniainen            7\n",
      "Kittilä               6\n",
      "Ilmajoki              6\n",
      "Keuruu                5\n",
      "Sodankylä             5\n",
      "Keminmaa              5\n",
      "Kurikka               5\n",
      "Viitasaari            5\n",
      "Huittinen             5\n",
      "Parainen              5\n",
      "Somero                4\n",
      "Virrat                4\n",
      "Karkkila              4\n",
      "Sonkajärvi            4\n",
      "Uurainen              4\n",
      "Ylivieska             4\n",
      "Kokemäki              4\n",
      "Muonio                4\n",
      "Kitee                 4\n",
      "Nivala                3\n",
      "Askola                3\n",
      "Liminka               3\n",
      "Masku                 3\n",
      "Suomussalmi           3\n",
      "Vesilahti             3\n",
      "Eura                  3\n",
      "Kuusamo               3\n",
      "Humppila              3\n",
      "Paltamo               3\n",
      "Kärkölä               3\n",
      "Vöyri                 3\n",
      "Kolari                2\n",
      "Asikkala              2\n",
      "Pyhtää                2\n",
      "Tohmajärvi            2\n",
      "Alajärvi              2\n",
      "Merikarvia            2\n",
      "Vehmaa                2\n",
      "Kiuruvesi             2\n",
      "Keitele               2\n",
      "Pälkäne               2\n",
      "Jokioinen             2\n",
      "Loppi                 2\n",
      "Mynämäki              2\n",
      "Juva                  2\n",
      "Miehikkälä            2\n",
      "Kalajoki              2\n",
      "Ii                    2\n",
      "Mäntyharju            2\n",
      "Luumäki               2\n",
      "Leppävirta            2\n",
      "Ähtäri                2\n",
      "Jämijärvi             2\n",
      "Pyhäntä               2\n",
      "Ilomantsi             2\n",
      "Siikainen             2\n",
      "Kangasniemi           2\n",
      "Tervo                 1\n",
      "Nurmes                1\n",
      "Sievi                 1\n",
      "Kannus                1\n",
      "Pornainen             1\n",
      "Pukkila               1\n",
      "Toivakka              1\n",
      "Petäjävesi            1\n",
      "Virolahti             1\n",
      "Juupajoki             1\n",
      "Heinävesi             1\n",
      "Loimaa                1\n",
      "Siikalatva            1\n",
      "Polvijärvi            1\n",
      "Myrskylä              1\n",
      "Urjala                1\n",
      "Suonenjoki            1\n",
      "Pyhäranta             1\n",
      "Aura                  1\n",
      "Liperi                1\n",
      "Karstula              1\n",
      "Kemijärvi             1\n",
      "Tyrnävä               1\n",
      "Hattula               1\n",
      "Joutsa                1\n",
      "Kivijärvi             1\n",
      "Rusko                 1\n",
      "Pöytyä                1\n",
      "Rautjärvi             1\n",
      "Kinnula               1\n",
      "Puolanka              1\n",
      "Lapinlahti            1\n",
      "Posio                 1\n",
      "Vesanto               1\n",
      "Sysmä                 1\n",
      "Lapinjärvi            1\n",
      "Kihniö                1\n",
      "Pudasjärvi            1\n",
      "Name: City, dtype: int64\n"
     ]
    }
   ],
   "source": [
    "print(rental[\"City\"].nunique())\n",
    "print('\\n')\n",
    "print(rental[\"City\"].value_counts())\n"
   ]
  },
  {
   "cell_type": "markdown",
   "id": "4faf7d78",
   "metadata": {},
   "source": [
    "194 different city and town in \"City\" Column"
   ]
  },
  {
   "cell_type": "markdown",
   "id": "6b6e0424",
   "metadata": {},
   "source": [
    "#### Explore \"City and District\" Column "
   ]
  },
  {
   "cell_type": "code",
   "execution_count": 27,
   "id": "34662028",
   "metadata": {
    "scrolled": true
   },
   "outputs": [
    {
     "data": {
      "text/plain": [
       "1549"
      ]
     },
     "execution_count": 27,
     "metadata": {},
     "output_type": "execute_result"
    }
   ],
   "source": [
    "rental[\"City and District\"].nunique()"
   ]
  },
  {
   "cell_type": "markdown",
   "id": "f47ea249",
   "metadata": {},
   "source": [
    "1549 combination of city and district in \"City and District\" column "
   ]
  },
  {
   "cell_type": "markdown",
   "id": "9558c37d",
   "metadata": {},
   "source": [
    "#### Explore \"Building Type\" Column "
   ]
  },
  {
   "cell_type": "code",
   "execution_count": 28,
   "id": "062de780",
   "metadata": {
    "scrolled": true
   },
   "outputs": [
    {
     "name": "stdout",
     "output_type": "stream",
     "text": [
      "8\n",
      "\n",
      "\n",
      "kerrostalo       16762\n",
      "rivitalo           666\n",
      "luhtitalo          431\n",
      "omakotitalo        135\n",
      "paritalo            82\n",
      "puutalo-osake       41\n",
      "erillistalo         33\n",
      "huoneisto            2\n",
      "Name: Building Type, dtype: int64\n"
     ]
    }
   ],
   "source": [
    "print(rental[\"Building Type\"].nunique())\n",
    "print('\\n')\n",
    "print(rental[\"Building Type\"].value_counts())"
   ]
  },
  {
   "cell_type": "markdown",
   "id": "54024640",
   "metadata": {},
   "source": [
    "8 Types of building in \"Building Type\" column , here is the literal english translation ,\n",
    "<br />\n",
    "kerrostalo >apartment building <br />\n",
    "rivitalo > terraced house <br />\n",
    "luhtitalo > Multifamily residential <br />\n",
    "omakotitalo > detached house <br />\n",
    "paritalo > Duplex<br />\n",
    "puutalo-osake > wooden house share<br />\n",
    "erillistalo  > Detached house<br />\n",
    "huoneisto  > apartment<br />"
   ]
  },
  {
   "cell_type": "markdown",
   "id": "ea842c2b",
   "metadata": {},
   "source": [
    "#### Explore \"Company\" Column "
   ]
  },
  {
   "cell_type": "code",
   "execution_count": 29,
   "id": "518697bc",
   "metadata": {
    "scrolled": true
   },
   "outputs": [
    {
     "name": "stdout",
     "output_type": "stream",
     "text": [
      "120\n",
      "\n",
      "\n",
      "verkkokauppa.lumo.fi              2433\n",
      "www.vuokraovi.com                 2349\n",
      "kodisto.fi                        2308\n",
      "track.adform.net                  1489\n",
      "www.realiaasuntovuokraus.fi        912\n",
      "www.vuokraturva.fi                 552\n",
      "www.avainasunnot.fi                546\n",
      "www.asuntosaatio.fi                490\n",
      "www.forenom.com                    470\n",
      "www.ovv.com                        439\n",
      "www.m2kodit.fi                     303\n",
      "kiinteistotahkola.fi               267\n",
      "asunnot.lahitapiola.fi             258\n",
      "www.ta-asumisoikeus.fi             228\n",
      "www.avara.fi                       211\n",
      "vuokraus.ilmarinen.fi              177\n",
      "vuokra-asunnot.keva.fi             153\n",
      "www.vuokralukaali.com              151\n",
      "www.kas.fi                         139\n",
      "www.kiinteistomaailma.fi           128\n",
      "www.hel.fi                         128\n",
      "joo-kodit.fi                       123\n",
      "www.klikasuntovuokraus.fi          119\n",
      "fincapvuokraus.fi                  117\n",
      "www.yhkodit.fi                     115\n",
      "www.pikipruukki.com                111\n",
      "juliliving.com                     100\n",
      "fiksuvuokraus.fi                    99\n",
      "www.asuntopehtoori.fi               86\n",
      "www.colliersasunnot.com             71\n",
      "www.remax.fi                        70\n",
      "www.kruunuasunnot.fi                65\n",
      "www.vaso.fi                         65\n",
      "avainasunnot.fi                     63\n",
      "www.lit.fi                          61\n",
      "www.vuokrapori.fi                   59\n",
      "www.jva.fi                          59\n",
      "www.wehostfinland.com               57\n",
      "www.premicokodit.fi                 57\n",
      "www.vts.fi                          51\n",
      "www.a-kruunu.fi                     46\n",
      "www.avori.fi                        43\n",
      "www.lahdentalot.fi                  35\n",
      "www.eilatoimii.fi                   31\n",
      "www.celine.fi                       28\n",
      "www.tsvv.fi                         28\n",
      "www.hiisihomes.fi                   27\n",
      "www.asuntopiiri.fi                  26\n",
      "sevas.fi                            25\n",
      "www.ta-yhtyma.fi                    25\n",
      "suomenlaatuasunnot.fi               24\n",
      "aitoasunnot.fi                      24\n",
      "www.vuokrakoti.com                  23\n",
      "www.toivo.fi                        22\n",
      "www.avoasunnot.fi                   21\n",
      "vuokraneliotliikkuu.fi              19\n",
      "www.vuokrakonsultti.com             17\n",
      "aninkainen.fi                       16\n",
      "www.niiralankulma.fi                16\n",
      "www.lakea.fi                        15\n",
      "nurmijarvenkodit.fi                 15\n",
      "www.ta.fi                           13\n",
      "www.oulunsivakka.fi                 12\n",
      "www.tampereenvuokra-asunnot.fi      12\n",
      "www.xn--vuokravlitys-mcb.com        10\n",
      "nolistudios.com                     10\n",
      "valkeakoskenasunnot.fi              10\n",
      "www.roivv.fi                         8\n",
      "www.vuokramaailma.com                8\n",
      "www.waloasunnot.fi                   8\n",
      "www.samlacapital.fi                  7\n",
      "www.elda.fi                          7\n",
      "veteli.fi                            7\n",
      "www.kuuntorni.fi                     6\n",
      "www.kotkanvarasto.fi                 5\n",
      "www.lkvhemma.fi                      5\n",
      "www.avellanlkv.fi                    5\n",
      "www.tvt.fi                           5\n",
      "www.nokianvuokrakodit.fi             5\n",
      "www.vaasanasumisoikeus.com           4\n",
      "kiinteistotili.fi                    4\n",
      "www.kotijoukkue.fi                   4\n",
      "www.hemmax.fi                        4\n",
      "www.silverkodit.fi                   4\n",
      "www.eskv.fi                          4\n",
      "www.muutoslkv.fi                     4\n",
      "www.ipty.fi                          4\n",
      "www.hvcasunnot.fi                    4\n",
      "www.hmlasunnot.fi                    3\n",
      "www.saastopankki.fi                  3\n",
      "www.kotisikemissa.fi                 3\n",
      "www.valorlkv.fi                      3\n",
      "www.kaupunkikoti.fi                  3\n",
      "soimu.fi                             3\n",
      "otsolkv.fi                           3\n",
      "kivatkodit.fi                        3\n",
      "www.rentson.fi                       3\n",
      "www.vuokravaltti.fi                  3\n",
      "www.hyva.fi                          3\n",
      "pirkanmaanlaatuisannointi.fi         3\n",
      "www.forentia.fi                      2\n",
      "jakosuo.com                          2\n",
      "www.wartalo.fi                       2\n",
      "house-asunnot.fi                     2\n",
      "www.taitokaari.fi                    2\n",
      "www.riihicapital.fi                  2\n",
      "www.nuorisosaatio.fi                 1\n",
      "asuntoekonomi.fi                     1\n",
      "www.mangrove.fi                      1\n",
      "www.huoneistolinja.fi                1\n",
      "www.luhta-kiinteistot.fi             1\n",
      "www.sammonkodinsaatio.fi             1\n",
      "saariniemilkv.fi                     1\n",
      "www.otokyla.fi                       1\n",
      "silfvenius.fi                        1\n",
      "www.kompassikodit.fi                 1\n",
      "www.anettek.fi                       1\n",
      "soihtu.fi                            1\n",
      "www.idmaninsaatio.fi                 1\n",
      "www.keuruu.fi                        1\n",
      "Name: Company, dtype: int64\n"
     ]
    }
   ],
   "source": [
    "print(rental[\"Company\"].nunique())\n",
    "print('\\n')\n",
    "print(rental[\"Company\"].value_counts())"
   ]
  },
  {
   "cell_type": "markdown",
   "id": "8483a572",
   "metadata": {},
   "source": [
    "120 different website companies"
   ]
  },
  {
   "cell_type": "markdown",
   "id": "5805bf24",
   "metadata": {},
   "source": [
    "#### Explore \"Rooms Number\" Column "
   ]
  },
  {
   "cell_type": "code",
   "execution_count": 30,
   "id": "73dd616e",
   "metadata": {
    "scrolled": false
   },
   "outputs": [
    {
     "name": "stdout",
     "output_type": "stream",
     "text": [
      "8\n",
      "\n",
      "\n",
      "2.0    8661\n",
      "1.0    5317\n",
      "3.0    3353\n",
      "4.0     688\n",
      "5.0     101\n",
      "6.0      21\n",
      "7.0       8\n",
      "8.0       3\n",
      "Name: Rooms Number, dtype: int64\n"
     ]
    }
   ],
   "source": [
    "print(rental[\"Rooms Number\"].nunique())\n",
    "print('\\n')\n",
    "print(rental[\"Rooms Number\"].value_counts())"
   ]
  },
  {
   "cell_type": "markdown",
   "id": "e9978386",
   "metadata": {},
   "source": [
    "Rooms number ranges from 1 to 8 "
   ]
  },
  {
   "cell_type": "markdown",
   "id": "8234267f",
   "metadata": {},
   "source": [
    "## 2.2 Histograms\n",
    "\n",
    " I created histograms (and KDEs) for all numeric variables:"
   ]
  },
  {
   "cell_type": "code",
   "execution_count": 31,
   "id": "10cdebdf",
   "metadata": {},
   "outputs": [
    {
     "data": {
      "image/png": "[encoded data removed]",
      "text/plain": [
       "<Figure size 1440x576 with 3 Axes>"
      ]
     },
     "metadata": {},
     "output_type": "display_data"
    }
   ],
   "source": [
    "# Setting random sample to ease the processing \n",
    "sample1=rental[[\"Monthly Rent\",\"Area\",\"Rooms Number\"]].sample(5000)\n",
    "\n",
    "sns.set_theme(style=\"darkgrid\")\n",
    "\n",
    "# Setting the number of rows and columns in the plotting grid\n",
    "n_rows=1\n",
    "n_cols=3\n",
    "\n",
    "# Creating the subplots\n",
    "fig, axes = plt.subplots(nrows=n_rows, ncols=n_cols, figsize = (20, 8))\n",
    "\n",
    "for i, column in enumerate(sample1.columns):\n",
    "    sns.histplot(sample1[column],ax=axes[i%n_cols], \n",
    "                 kde = True, color = \"darkblue\").set(xlabel=None, title = column)"
   ]
  },
  {
   "cell_type": "markdown",
   "id": "190b940e",
   "metadata": {},
   "source": [
    "As shown above, the continuous variables, such as **\"Monthly Rent\"** and **\"Area\"** were roughly normally distributed (i.e., bell-shaped), but with a heavy right tail (i.e., right skew). This implies the presence of outliers for these variables, but this was to be expected given the context, where there will always be a small proportion of houses that are exceptionally large, and expensive. "
   ]
  },
  {
   "cell_type": "markdown",
   "id": "7ecb29b0",
   "metadata": {},
   "source": [
    "## 2.3 Scatterplot\n",
    "\n",
    "visually inspect the relationship between \"Monthly Rent\" and each of the  continuous variable \"Area\""
   ]
  },
  {
   "cell_type": "code",
   "execution_count": 32,
   "id": "822e7ed5",
   "metadata": {},
   "outputs": [
    {
     "data": {
      "image/png": "[encoded data removed]",
      "text/plain": [
       "<Figure size 432x288 with 1 Axes>"
      ]
     },
     "metadata": {},
     "output_type": "display_data"
    }
   ],
   "source": [
    "\n",
    "\n",
    "area=rental[(rental[\"Area\"]<200) & (rental[\"Monthly Rent\"]<3000) ]\n",
    "viz_1=sns.regplot(x=\"Area\",y=\"Monthly Rent\",data=area,line_kws={'color': 'crimson'}, scatter_kws={'s' : 10})\n",
    "viz_1.set(xlabel='Area in meter squared', ylabel='Monthly Rent in Euro')\n",
    "\n",
    "plt.show(viz_1)"
   ]
  },
  {
   "cell_type": "markdown",
   "id": "21bac5d3",
   "metadata": {},
   "source": [
    "As shown above, The Aread appeared to have fairly linear positive relationships with Monthly rent."
   ]
  },
  {
   "cell_type": "markdown",
   "id": "554e17bb",
   "metadata": {},
   "source": [
    "## 2.4 Boxplots\n",
    "\n",
    " I decided to visually inspect the relationship between \"Monthly Rent\" and each of the following :\n",
    " * \"Rooms Number\"\n",
    " * \"Building Type\""
   ]
  },
  {
   "cell_type": "markdown",
   "id": "19c7e583",
   "metadata": {},
   "source": [
    "First, a boxplot for **\"Rooms Number\"**\n",
    "\n"
   ]
  },
  {
   "cell_type": "code",
   "execution_count": 33,
   "id": "41228fc2",
   "metadata": {
    "scrolled": true
   },
   "outputs": [
    {
     "data": {
      "text/plain": [
       "<AxesSubplot:title={'center':'Comparison of Price by Number of Rooms'}, xlabel='Rooms Number', ylabel='Monthly Rent'>"
      ]
     },
     "execution_count": 33,
     "metadata": {},
     "output_type": "execute_result"
    },
    {
     "data": {
      "image/png": "[encoded data removed]",
      "text/plain": [
       "<Figure size 1152x576 with 1 Axes>"
      ]
     },
     "metadata": {},
     "output_type": "display_data"
    }
   ],
   "source": [
    "sns.set(style='darkgrid')\n",
    "plt.figure(figsize=(16, 8))\n",
    "plt.title(\"Comparison of Price by Number of Rooms\", fontsize = 14)\n",
    "sns.boxplot(x=\"Rooms Number\", y=\"Monthly Rent\", data=rental)"
   ]
  },
  {
   "cell_type": "markdown",
   "id": "b352802d",
   "metadata": {},
   "source": [
    "Number of rooms showed a somewhat linear relationship with monthly rent"
   ]
  },
  {
   "cell_type": "markdown",
   "id": "2fdd6035",
   "metadata": {},
   "source": [
    "Second, a boxplot for **Building Type**\n",
    "\n"
   ]
  },
  {
   "cell_type": "code",
   "execution_count": 34,
   "id": "3605aa21",
   "metadata": {
    "scrolled": false
   },
   "outputs": [
    {
     "data": {
      "text/plain": [
       "<AxesSubplot:title={'center':'Comparison of Price by Building Type'}, xlabel='Building Type', ylabel='Monthly Rent'>"
      ]
     },
     "execution_count": 34,
     "metadata": {},
     "output_type": "execute_result"
    },
    {
     "data": {
      "image/png": "[encoded data removed]",
      "text/plain": [
       "<Figure size 1152x576 with 1 Axes>"
      ]
     },
     "metadata": {},
     "output_type": "display_data"
    }
   ],
   "source": [
    "sns.set(style='darkgrid')\n",
    "plt.figure(figsize=(16, 8))\n",
    "plt.title(\"Comparison of Price by Building Type\", fontsize = 14)\n",
    "sns.boxplot(x=\"Building Type\", y=\"Monthly Rent\", data=rental,showfliers=False)"
   ]
  },
  {
   "cell_type": "markdown",
   "id": "22190bcd",
   "metadata": {},
   "source": [
    "as shown in the box plot above the association is  less clear for Building types "
   ]
  },
  {
   "cell_type": "markdown",
   "id": "c1fa158e",
   "metadata": {},
   "source": [
    "I decided to visually inspect the relationship between \"Area\" and \"Building Type\" "
   ]
  },
  {
   "cell_type": "code",
   "execution_count": 35,
   "id": "b097f1cb",
   "metadata": {
    "scrolled": true
   },
   "outputs": [
    {
     "data": {
      "text/plain": [
       "<AxesSubplot:title={'center':'Comparison of Area by Building Type'}, xlabel='Building Type', ylabel='Area'>"
      ]
     },
     "execution_count": 35,
     "metadata": {},
     "output_type": "execute_result"
    },
    {
     "data": {
      "image/png": "[encoded data removed]",
      "text/plain": [
       "<Figure size 1152x576 with 1 Axes>"
      ]
     },
     "metadata": {},
     "output_type": "display_data"
    }
   ],
   "source": [
    "plt.figure(figsize=(16, 8))\n",
    "plt.title(\"Comparison of Area by Building Type\", fontsize = 14)\n",
    "sns.boxplot(x=\"Building Type\", y=\"Area\", data=rental,showfliers=False)"
   ]
  },
  {
   "cell_type": "markdown",
   "id": "4428e4dc",
   "metadata": {},
   "source": [
    "## 2.5 CountPlot\n",
    "\n",
    "Plotting count of the availablity columns   "
   ]
  },
  {
   "cell_type": "code",
   "execution_count": 36,
   "id": "735d5174",
   "metadata": {
    "scrolled": false
   },
   "outputs": [
    {
     "data": {
      "text/plain": [
       "<seaborn.axisgrid.FacetGrid at 0x203dbbc4c10>"
      ]
     },
     "execution_count": 36,
     "metadata": {},
     "output_type": "execute_result"
    },
    {
     "data": {
      "image/png": "[encoded data removed]",
      "text/plain": [
       "<Figure size 720x360 with 1 Axes>"
      ]
     },
     "metadata": {},
     "output_type": "display_data"
    }
   ],
   "source": [
    "sns.set(style='darkgrid')\n",
    "\n",
    "viz_2=sns.catplot(x=\"Available\",data=rental,kind=\"count\",height=5, aspect=2,order = rental['Available'].value_counts().index)\n",
    "viz_2.set(xlabel='Availablity', ylabel='Count')\n"
   ]
  },
  {
   "cell_type": "markdown",
   "id": "cf12c35f",
   "metadata": {},
   "source": [
    "Around 7000 of the listings are available for immediate renting "
   ]
  },
  {
   "cell_type": "markdown",
   "id": "9569b2c5",
   "metadata": {},
   "source": [
    "#### Next,I decided to look at the 5 top companies in number of lisiting \n",
    "\n",
    "Create new df with the top companies :"
   ]
  },
  {
   "cell_type": "code",
   "execution_count": 37,
   "id": "161bbb6a",
   "metadata": {
    "scrolled": true
   },
   "outputs": [
    {
     "data": {
      "text/html": [
       "<div>\n",
       "<style scoped>\n",
       "    .dataframe tbody tr th:only-of-type {\n",
       "        vertical-align: middle;\n",
       "    }\n",
       "\n",
       "    .dataframe tbody tr th {\n",
       "        vertical-align: top;\n",
       "    }\n",
       "\n",
       "    .dataframe thead th {\n",
       "        text-align: right;\n",
       "    }\n",
       "</style>\n",
       "<table border=\"1\" class=\"dataframe\">\n",
       "  <thead>\n",
       "    <tr style=\"text-align: right;\">\n",
       "      <th></th>\n",
       "      <th>Company</th>\n",
       "      <th>Count</th>\n",
       "    </tr>\n",
       "  </thead>\n",
       "  <tbody>\n",
       "    <tr>\n",
       "      <th>0</th>\n",
       "      <td>verkkokauppa.lumo.fi</td>\n",
       "      <td>2433</td>\n",
       "    </tr>\n",
       "    <tr>\n",
       "      <th>1</th>\n",
       "      <td>www.vuokraovi.com</td>\n",
       "      <td>2349</td>\n",
       "    </tr>\n",
       "    <tr>\n",
       "      <th>2</th>\n",
       "      <td>kodisto.fi</td>\n",
       "      <td>2308</td>\n",
       "    </tr>\n",
       "    <tr>\n",
       "      <th>3</th>\n",
       "      <td>track.adform.net</td>\n",
       "      <td>1489</td>\n",
       "    </tr>\n",
       "    <tr>\n",
       "      <th>4</th>\n",
       "      <td>www.realiaasuntovuokraus.fi</td>\n",
       "      <td>912</td>\n",
       "    </tr>\n",
       "    <tr>\n",
       "      <th>5</th>\n",
       "      <td>www.vuokraturva.fi</td>\n",
       "      <td>552</td>\n",
       "    </tr>\n",
       "    <tr>\n",
       "      <th>6</th>\n",
       "      <td>www.avainasunnot.fi</td>\n",
       "      <td>546</td>\n",
       "    </tr>\n",
       "    <tr>\n",
       "      <th>7</th>\n",
       "      <td>www.asuntosaatio.fi</td>\n",
       "      <td>490</td>\n",
       "    </tr>\n",
       "    <tr>\n",
       "      <th>8</th>\n",
       "      <td>www.forenom.com</td>\n",
       "      <td>470</td>\n",
       "    </tr>\n",
       "    <tr>\n",
       "      <th>9</th>\n",
       "      <td>www.ovv.com</td>\n",
       "      <td>439</td>\n",
       "    </tr>\n",
       "  </tbody>\n",
       "</table>\n",
       "</div>"
      ],
      "text/plain": [
       "                       Company  Count\n",
       "0         verkkokauppa.lumo.fi   2433\n",
       "1            www.vuokraovi.com   2349\n",
       "2                   kodisto.fi   2308\n",
       "3             track.adform.net   1489\n",
       "4  www.realiaasuntovuokraus.fi    912\n",
       "5           www.vuokraturva.fi    552\n",
       "6          www.avainasunnot.fi    546\n",
       "7          www.asuntosaatio.fi    490\n",
       "8              www.forenom.com    470\n",
       "9                  www.ovv.com    439"
      ]
     },
     "execution_count": 37,
     "metadata": {},
     "output_type": "execute_result"
    }
   ],
   "source": [
    "Top_companies=rental[\"Company\"].value_counts().head(10)\n",
    "Top_companies_df=pd.DataFrame(Top_companies)\n",
    "Top_companies_df.reset_index(inplace=True)\n",
    "Top_companies_df.rename(columns={'index':'Company', 'Company':'Count'}, inplace=True)\n",
    "Top_companies_df"
   ]
  },
  {
   "cell_type": "code",
   "execution_count": 38,
   "id": "b105f872",
   "metadata": {
    "scrolled": true
   },
   "outputs": [
    {
     "data": {
      "text/plain": [
       "[Text(0, 0, 'verkkokauppa.lumo.fi'),\n",
       " Text(1, 0, 'www.vuokraovi.com'),\n",
       " Text(2, 0, 'kodisto.fi'),\n",
       " Text(3, 0, 'track.adform.net'),\n",
       " Text(4, 0, 'www.realiaasuntovuokraus.fi'),\n",
       " Text(5, 0, 'www.vuokraturva.fi'),\n",
       " Text(6, 0, 'www.avainasunnot.fi'),\n",
       " Text(7, 0, 'www.asuntosaatio.fi'),\n",
       " Text(8, 0, 'www.forenom.com'),\n",
       " Text(9, 0, 'www.ovv.com')]"
      ]
     },
     "execution_count": 38,
     "metadata": {},
     "output_type": "execute_result"
    },
    {
     "data": {
      "image/png": "[encoded data removed]",
      "text/plain": [
       "<Figure size 720x576 with 1 Axes>"
      ]
     },
     "metadata": {},
     "output_type": "display_data"
    }
   ],
   "source": [
    "sns.set(font_scale = 2)\n",
    "sns.set(rc={'figure.figsize':(10,8)})\n",
    "sns.set_style('white')\n",
    "viz_1=sns.barplot(x=\"Company\", y=\"Count\", data=Top_companies_df,\n",
    "                 palette='Blues_d')\n",
    "viz_1.set_title('Companies with the most listings in Finland',size = 15)\n",
    "viz_1.set_ylabel('Count of listings',size = 15)\n",
    "viz_1.set_xlabel('Companies Websites',size = 15)\n",
    "viz_1.set_xticklabels(viz_1.get_xticklabels(), rotation=90,size = 15)"
   ]
  },
  {
   "cell_type": "markdown",
   "id": "4c5af062",
   "metadata": {},
   "source": [
    "As the plot show ,verkkokauppa has the highest number of listings all over finland "
   ]
  },
  {
   "cell_type": "markdown",
   "id": "9767c140",
   "metadata": {},
   "source": [
    "## 2.6 BarPlot\n",
    "\n",
    "I decided to visually inspect the mean room numbers in every \"Building Type\" "
   ]
  },
  {
   "cell_type": "code",
   "execution_count": 39,
   "id": "2d76206a",
   "metadata": {
    "scrolled": true
   },
   "outputs": [
    {
     "data": {
      "text/plain": [
       "<seaborn.axisgrid.FacetGrid at 0x203deb3bbe0>"
      ]
     },
     "execution_count": 39,
     "metadata": {},
     "output_type": "execute_result"
    },
    {
     "data": {
      "image/png": "[encoded data removed]",
      "text/plain": [
       "<Figure size 720x360 with 1 Axes>"
      ]
     },
     "metadata": {},
     "output_type": "display_data"
    }
   ],
   "source": [
    "sns.set(style='darkgrid')\n",
    "viz_3=sns.catplot(x=\"Building Type\",y=\"Rooms Number\",data=rental,kind=\"bar\",height=5, aspect=2)\n",
    "viz_3.set(xlabel='Building Type', ylabel='Mean number rooms')"
   ]
  },
  {
   "cell_type": "markdown",
   "id": "e053ffe6",
   "metadata": {},
   "source": [
    "The plot above shows that omakotitalo has the highest mean of room numbers which is around 3.5."
   ]
  },
  {
   "cell_type": "markdown",
   "id": "863ab5c0",
   "metadata": {},
   "source": [
    "## 2.7 Correlation Heatmap\n",
    "To examine the strength of the relationships among variables, I created a correlation heatmap as follows:\n",
    "\n"
   ]
  },
  {
   "cell_type": "code",
   "execution_count": 40,
   "id": "dfabbb40",
   "metadata": {
    "scrolled": true
   },
   "outputs": [
    {
     "data": {
      "image/png": "[encoded data removed]",
      "text/plain": [
       "<Figure size 1008x864 with 2 Axes>"
      ]
     },
     "metadata": {},
     "output_type": "display_data"
    }
   ],
   "source": [
    "# Compute the correlation matrix \n",
    "corr_all = rental.corr()\n",
    "\n",
    "\n",
    "\n",
    "# Set up the matplotlib figure\n",
    "plt.figure(figsize = (14, 12))\n",
    "plt.title(\"Correlation Heatmap\", fontsize = 14)\n",
    "\n",
    "# Draw the heatmap with the mask and correct aspect ratio\n",
    "sns.heatmap(corr_all,  annot = True, fmt= '.1g', vmin =-1, vmax = 1, center = 0,\n",
    "            square = True, linecolor = 'black', linewidths = .5, cmap = \"coolwarm\")\n",
    "plt.show()"
   ]
  },
  {
   "cell_type": "markdown",
   "id": "6d738875",
   "metadata": {},
   "source": [
    "## 2.8 The big 5\n",
    "Here,I was curious about the top 5 cities in the number of lisiting which are <br />\n",
    "Helsinki           <br />\n",
    "Espoo              <br />\n",
    "Vantaa             <br />\n",
    "Tampere            <br />\n",
    "Jyväskylä           <br />"
   ]
  },
  {
   "cell_type": "markdown",
   "id": "c40d2510",
   "metadata": {},
   "source": [
    "#### Build  table showing stat summarry about the monthly rent in each city "
   ]
  },
  {
   "cell_type": "code",
   "execution_count": 41,
   "id": "8046c4c0",
   "metadata": {},
   "outputs": [],
   "source": [
    "#Helsinki           \n",
    "sub_1=rental.loc[rental['City'] == 'Helsinki']\n",
    "price_sub1=sub_1[['Monthly Rent']]\n",
    "#Espoo\n",
    "sub_2=rental.loc[rental['City'] == 'Espoo']\n",
    "price_sub2=sub_2[['Monthly Rent']]\n",
    "#Vantaa\n",
    "sub_3=rental.loc[rental['City'] == 'Vantaa']\n",
    "price_sub3=sub_3[['Monthly Rent']]              \n",
    "#Tampere\n",
    "sub_4=rental.loc[rental['City'] == 'Tampere']\n",
    "price_sub4=sub_4[['Monthly Rent']]\n",
    "#Jyväskylä\n",
    "sub_5=rental.loc[rental['City'] == 'Jyväskylä']\n",
    "price_sub5=sub_5[['Monthly Rent']]\n",
    "#putting all the prices' dfs in the list\n",
    "price_list_by_n=[price_sub1, price_sub2, price_sub3, price_sub4, price_sub5]"
   ]
  },
  {
   "cell_type": "code",
   "execution_count": 42,
   "id": "8a56aa0c",
   "metadata": {},
   "outputs": [
    {
     "data": {
      "text/html": [
       "<div>\n",
       "<style scoped>\n",
       "    .dataframe tbody tr th:only-of-type {\n",
       "        vertical-align: middle;\n",
       "    }\n",
       "\n",
       "    .dataframe tbody tr th {\n",
       "        vertical-align: top;\n",
       "    }\n",
       "\n",
       "    .dataframe thead th {\n",
       "        text-align: right;\n",
       "    }\n",
       "</style>\n",
       "<table border=\"1\" class=\"dataframe\">\n",
       "  <thead>\n",
       "    <tr style=\"text-align: right;\">\n",
       "      <th></th>\n",
       "      <th>Helsinki</th>\n",
       "      <th>Espoo</th>\n",
       "      <th>Vantaa</th>\n",
       "      <th>Tampere</th>\n",
       "      <th>Jyväskylä</th>\n",
       "    </tr>\n",
       "    <tr>\n",
       "      <th>Stats</th>\n",
       "      <th></th>\n",
       "      <th></th>\n",
       "      <th></th>\n",
       "      <th></th>\n",
       "      <th></th>\n",
       "    </tr>\n",
       "  </thead>\n",
       "  <tbody>\n",
       "    <tr>\n",
       "      <th>min</th>\n",
       "      <td>367.0</td>\n",
       "      <td>312.0</td>\n",
       "      <td>305.0</td>\n",
       "      <td>339.0</td>\n",
       "      <td>303.0</td>\n",
       "    </tr>\n",
       "    <tr>\n",
       "      <th>25%</th>\n",
       "      <td>873.5</td>\n",
       "      <td>799.0</td>\n",
       "      <td>760.0</td>\n",
       "      <td>600.0</td>\n",
       "      <td>530.0</td>\n",
       "    </tr>\n",
       "    <tr>\n",
       "      <th>50%</th>\n",
       "      <td>1001.0</td>\n",
       "      <td>899.0</td>\n",
       "      <td>870.0</td>\n",
       "      <td>716.0</td>\n",
       "      <td>629.5</td>\n",
       "    </tr>\n",
       "    <tr>\n",
       "      <th>75%</th>\n",
       "      <td>1249.0</td>\n",
       "      <td>1020.0</td>\n",
       "      <td>965.0</td>\n",
       "      <td>815.0</td>\n",
       "      <td>720.0</td>\n",
       "    </tr>\n",
       "    <tr>\n",
       "      <th>max</th>\n",
       "      <td>7500.0</td>\n",
       "      <td>4500.0</td>\n",
       "      <td>3800.0</td>\n",
       "      <td>3500.0</td>\n",
       "      <td>2161.0</td>\n",
       "    </tr>\n",
       "  </tbody>\n",
       "</table>\n",
       "</div>"
      ],
      "text/plain": [
       "       Helsinki   Espoo  Vantaa  Tampere  Jyväskylä\n",
       "Stats                                              \n",
       "min       367.0   312.0   305.0    339.0      303.0\n",
       "25%       873.5   799.0   760.0    600.0      530.0\n",
       "50%      1001.0   899.0   870.0    716.0      629.5\n",
       "75%      1249.0  1020.0   965.0    815.0      720.0\n",
       "max      7500.0  4500.0  3800.0   3500.0     2161.0"
      ]
     },
     "execution_count": 42,
     "metadata": {},
     "output_type": "execute_result"
    }
   ],
   "source": [
    "#creating an empty list that we will append later with price distributions for each city\n",
    "p_l_b_n_2=[]\n",
    "#creating list with known values in city column\n",
    "nei_list=['Helsinki', 'Espoo', 'Vantaa', 'Tampere', 'Jyväskylä']\n",
    "#creating a for loop to get statistics for price ranges and append it to our empty list\n",
    "for x in price_list_by_n:\n",
    "    i=x.describe(percentiles=[.25, .50, .75])\n",
    "    i=i.iloc[3:]\n",
    "    i.reset_index(inplace=True)\n",
    "    i.rename(columns={'index':'Stats'}, inplace=True)\n",
    "    p_l_b_n_2.append(i)\n",
    "#changing names of the price column to the area name for easier reading of the table    \n",
    "p_l_b_n_2[0].rename(columns={'Monthly Rent':nei_list[0]}, inplace=True)\n",
    "p_l_b_n_2[1].rename(columns={'Monthly Rent':nei_list[1]}, inplace=True)\n",
    "p_l_b_n_2[2].rename(columns={'Monthly Rent':nei_list[2]}, inplace=True)\n",
    "p_l_b_n_2[3].rename(columns={'Monthly Rent':nei_list[3]}, inplace=True)\n",
    "p_l_b_n_2[4].rename(columns={'Monthly Rent':nei_list[4]}, inplace=True)\n",
    "#finilizing our dataframe for final view    \n",
    "stat_df=p_l_b_n_2\n",
    "stat_df=[df.set_index('Stats') for df in stat_df]\n",
    "stat_df=stat_df[0].join(stat_df[1:])\n",
    "stat_df"
   ]
  },
  {
   "cell_type": "markdown",
   "id": "02f356d6",
   "metadata": {},
   "source": [
    "As the table show above Helsinki has the highest median of monthly rent for around  1000 euro a month while Jyväskylä has the lowest median of monthly rent for around  629 euro"
   ]
  },
  {
   "cell_type": "markdown",
   "id": "4ac8e363",
   "metadata": {},
   "source": [
    "#### Second made boxplot showing the Density and distribution of prices for the 5 biggest cities"
   ]
  },
  {
   "cell_type": "code",
   "execution_count": 43,
   "id": "1a14bc27",
   "metadata": {},
   "outputs": [
    {
     "data": {
      "text/plain": [
       "Text(0.5, 1.0, 'Density and distribution of prices for the 5 biggest cities')"
      ]
     },
     "execution_count": 43,
     "metadata": {},
     "output_type": "execute_result"
    },
    {
     "data": {
      "image/png": "[encoded data removed]",
      "text/plain": [
       "<Figure size 720x576 with 1 Axes>"
      ]
     },
     "metadata": {},
     "output_type": "display_data"
    }
   ],
   "source": [
    "Cities = rental[rental[\"City\"].isin(['Helsinki','Espoo','Vantaa','Tampere','Jyväskylä'])]\n",
    "viz_2=sns.boxplot(data=Cities[Cities[\"Monthly Rent\"]<2000], x='City', y='Monthly Rent')\n",
    "viz_2.set_title('Density and distribution of prices for the 5 biggest cities',size=15)"
   ]
  },
  {
   "cell_type": "markdown",
   "id": "b04ee745",
   "metadata": {},
   "source": [
    "## 3. Obtaining Latitude and Longitude Coordinates using Geocoder\n"
   ]
  },
  {
   "cell_type": "markdown",
   "id": "c05b73b7",
   "metadata": {},
   "source": [
    "I obtain Latitude and Longitude Coordinates for every Ditrict in Helsinki "
   ]
  },
  {
   "cell_type": "code",
   "execution_count": 44,
   "id": "7cd63b59",
   "metadata": {},
   "outputs": [],
   "source": [
    "GeocoderAPI_key=\"###############\""
   ]
  },
  {
   "cell_type": "code",
   "execution_count": null,
   "id": "7bdcbc3f",
   "metadata": {},
   "outputs": [],
   "source": [
    "Helsinki=rental[rental[\"City\"]==\"Helsinki\"]"
   ]
  },
  {
   "cell_type": "code",
   "execution_count": null,
   "id": "23f64790",
   "metadata": {
    "scrolled": true
   },
   "outputs": [],
   "source": [
    "# First, create 'get_geocoder' function:\n",
    "def get_geocoder(location):\n",
    "    # Initialize variable to None\n",
    "    lat_lng_coords = None\n",
    "    # Loop until all coordinates are obtained\n",
    "    while(lat_lng_coords is None):\n",
    "      g = geocoder.google('{}, Finland'.format(location), key = GeocoderAPI_key)\n",
    "      lat_lng_coords = g.latlng\n",
    "    latitude = lat_lng_coords[0]\n",
    "    longitude = lat_lng_coords[1]\n",
    "    return latitude, longitude\n",
    "\n",
    "# Second, append latitude and longitude columns to the dataframe\n",
    "Helsinki['Latitude'], Helsinki['Longitude'] = zip(*Helsinki['City and District'].apply(get_geocoder))\n"
   ]
  },
  {
   "cell_type": "markdown",
   "id": "77934247",
   "metadata": {},
   "source": [
    "## 4. Write the data to excel file \n",
    "\n",
    "Getting the data ready for Tableau visualisation "
   ]
  },
  {
   "cell_type": "code",
   "execution_count": null,
   "id": "1909eecf",
   "metadata": {},
   "outputs": [],
   "source": [
    "Helsinki.to_excel(r\"C:\\Users\\HP\\Desktop\\Helsinki.xlsx\")"
   ]
  },
  {
   "cell_type": "markdown",
   "id": "167ad26b",
   "metadata": {},
   "source": [
    "## 5.Conclusion\n",
    "\n",
    "This vuokraovi.com dataset  appeared to be a very rich dataset with a variety of columns that allowed me to do deep data exploration on each significant column presented. First,I imported the data and concat it to one big data frame; Second , I started cleaning the data and create new columns that is related to my analysing plan.Next, I put good use of the data set by doing extensive EDA using different types of charts and techniques such as (boxplot,barplot,countplot,heatmap etc ..).\n",
    "Lastly, I obtained Latitude and Longitude Coordinates using Geocoder to get the data ready for Tableau visualisation .\n",
    "\n",
    "\n",
    "\n",
    "\n",
    "\n",
    "### Thank you!\n",
    "\n",
    "Created by Omar Banat\n"
   ]
  }
 ],
 "metadata": {
  "kernelspec": {
   "display_name": "Python 3 (ipykernel)",
   "language": "python",
   "name": "python3"
  },
  "language_info": {
   "codemirror_mode": {
    "name": "ipython",
    "version": 3
   },
   "file_extension": ".py",
   "mimetype": "text/x-python",
   "name": "python",
   "nbconvert_exporter": "python",
   "pygments_lexer": "ipython3",
   "version": "3.9.7"
  }
 },
 "nbformat": 4,
 "nbformat_minor": 5
}
