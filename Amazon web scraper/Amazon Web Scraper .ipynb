{
 "cells": [
  {
   "cell_type": "markdown",
   "id": "ddb1db32",
   "metadata": {},
   "source": [
    "# Amazon Ratings Notifier\n",
    "\n",
    "*16/01/2022*\n",
    "\n",
    "\n",
    "![alt text](https://github.com/omarov10001/Portfolio/blob/main/Amazon%20web%20scraper/AmazonShirt.JPG?raw=true)\n",
    "\n",
    "\n",
    "### Overview\n",
    "\n",
    "As a beginner seller on Amazon, every single rating makes difference .In this notebook I build an Email notifier to send an email on daily basis with the update number of ratings the shirt has,so I can resolve any negative rating with the customer.\n",
    "\n",
    "### 1. Scrape Data from Amazon"
   ]
  },
  {
   "cell_type": "code",
   "execution_count": null,
   "id": "7e68eae9",
   "metadata": {},
   "outputs": [],
   "source": [
    "# import libraries \n",
    "\n",
    "from bs4 import BeautifulSoup\n",
    "import requests\n",
    "import time\n",
    "import datetime\n",
    "\n",
    "import smtplib"
   ]
  },
  {
   "cell_type": "code",
   "execution_count": 58,
   "id": "16420a86",
   "metadata": {},
   "outputs": [
    {
     "name": "stdout",
     "output_type": "stream",
     "text": [
      "\n",
      "                    14 ratings\n",
      "                   \n",
      "\n",
      "                   Funny Got Data MIS Data Systems Business Analyst T-Shirt\n",
      "                  \n"
     ]
    }
   ],
   "source": [
    "# Connect to Website and pull in data\n",
    "\n",
    "URL = 'https://www.amazon.com/Funny-Data-Systems-Business-Analyst/dp/B07FNW9FGJ/ref=sr_1_3?dchild=1&keywords=data%2Banalyst%2Btshirt&qid=1626655184&sr=8-3&customId=B0752XJYNL&th=1'\n",
    "\n",
    "headers = {\"User-Agent\": \"Mozilla/5.0 (Windows NT 10.0; Win64; x64) AppleWebKit/537.36 (KHTML, like Gecko) Chrome/78.0.3904.108 Safari/537.36\", \"Accept-Encoding\":\"gzip, deflate\", \"Accept\":\"text/html,application/xhtml+xml,application/xml;q=0.9,*/*;q=0.8\", \"DNT\":\"1\",\"Connection\":\"close\", \"Upgrade-Insecure-Requests\":\"1\"}\n",
    "\n",
    "page = requests.get(URL, headers=headers)\n",
    "\n",
    "soup1 = BeautifulSoup(page.content, \"html.parser\")\n",
    "\n",
    "soup2 = BeautifulSoup(soup1.prettify(), \"html.parser\")\n",
    "\n",
    "title = soup2.find(id='productTitle').get_text()\n",
    "\n",
    "ratings = soup2.find(id=\"acrCustomerReviewText\").get_text()\n",
    "\n",
    "print(ratings)\n",
    "print(title)\n"
   ]
  },
  {
   "cell_type": "code",
   "execution_count": 62,
   "id": "99295bf8",
   "metadata": {},
   "outputs": [
    {
     "name": "stdout",
     "output_type": "stream",
     "text": [
      "Funny Got Data MIS Data Systems Business Analyst T-Shirt\n",
      "14 ratings\n"
     ]
    }
   ],
   "source": [
    "ratings = ratings.strip()\n",
    "title = title.strip()\n",
    "\n",
    "print(title)\n",
    "print(ratings)\n"
   ]
  },
  {
   "cell_type": "markdown",
   "id": "b7f09dfe",
   "metadata": {},
   "source": [
    "### 2.Build file to write our data"
   ]
  },
  {
   "cell_type": "code",
   "execution_count": 63,
   "id": "ee2c33e5",
   "metadata": {},
   "outputs": [
    {
     "name": "stdout",
     "output_type": "stream",
     "text": [
      "2022-01-16\n"
     ]
    }
   ],
   "source": [
    "# Create a Timestamp for your output to track when data was collected\n",
    "import datetime\n",
    "today=datetime.date.today()\n",
    "print(today)"
   ]
  },
  {
   "cell_type": "code",
   "execution_count": 66,
   "id": "f3996baf",
   "metadata": {},
   "outputs": [],
   "source": [
    "# Create CSV and write headers and data into the file\n",
    "import csv\n",
    "\n",
    "header = ['Title', 'Ratings', 'Date']\n",
    "data = [title, ratings, today]\n",
    "\n",
    "with open(\"Amazon\",\"w\",newline=\"\",encoding='UTF8')as a:\n",
    "    writer=csv.writer(a)\n",
    "    writer.writerow(header)\n",
    "    writer.writerow(data)\n",
    "    \n",
    "    \n",
    "    "
   ]
  },
  {
   "cell_type": "code",
   "execution_count": 71,
   "id": "e0e0d53a",
   "metadata": {},
   "outputs": [
    {
     "name": "stdout",
     "output_type": "stream",
     "text": [
      "                                               Title     Ratings        Date\n",
      "0  Funny Got Data MIS Data Systems Business Analy...  14 ratings  2022-01-16\n"
     ]
    }
   ],
   "source": [
    "import pandas as pd \n",
    "\n",
    "df=pd.read_csv(r\"C:\\Users\\HP\\Amazon.csv\")\n",
    "print(df)"
   ]
  },
  {
   "cell_type": "markdown",
   "id": "35d3f286",
   "metadata": {},
   "source": [
    "### 3.Build the function to scrape the ratings number"
   ]
  },
  {
   "cell_type": "code",
   "execution_count": 73,
   "id": "65d91283",
   "metadata": {},
   "outputs": [],
   "source": [
    "#Combine all of the above code into one function\n",
    "\n",
    "\n",
    "def check_ratingsno():\n",
    "    URL = 'https://www.amazon.com/Funny-Data-Systems-Business-Analyst/dp/B07FNW9FGJ/ref=sr_1_3?dchild=1&keywords=data%2Banalyst%2Btshirt&qid=1626655184&sr=8-3&customId=B0752XJYNL&th=1'\n",
    "\n",
    "    headers = {\"User-Agent\": \"Mozilla/5.0 (Windows NT 10.0; Win64; x64) AppleWebKit/537.36 (KHTML, like Gecko) Chrome/78.0.3904.108 Safari/537.36\", \"Accept-Encoding\":\"gzip, deflate\", \"Accept\":\"text/html,application/xhtml+xml,application/xml;q=0.9,*/*;q=0.8\", \"DNT\":\"1\",\"Connection\":\"close\", \"Upgrade-Insecure-Requests\":\"1\"}\n",
    "\n",
    "    page = requests.get(URL, headers=headers)\n",
    "\n",
    "    soup1 = BeautifulSoup(page.content, \"html.parser\")\n",
    "\n",
    "    soup2 = BeautifulSoup(soup1.prettify(), \"html.parser\")\n",
    "\n",
    "    title = soup2.find(id='productTitle').get_text()\n",
    "\n",
    "    ratings = soup2.find(id=\"acrCustomerReviewText\").get_text()\n",
    "\n",
    "    ratings = ratings.strip()\n",
    "    title = title.strip()\n",
    "\n",
    "    import datetime\n",
    "\n",
    "    today = datetime.date.today()\n",
    "    \n",
    "    import csv \n",
    "\n",
    "    header = ['Title', 'Ratings', 'Date']\n",
    "    data = [title, ratings, today]\n",
    "\n",
    "    with open('AmazonWebScraperDataset.csv', 'a+', newline='', encoding='UTF8') as f:\n",
    "        writer = csv.writer(f)\n",
    "        writer.writerow(data)\n",
    " "
   ]
  },
  {
   "cell_type": "code",
   "execution_count": null,
   "id": "23afb9cf",
   "metadata": {},
   "outputs": [],
   "source": [
    "# Runs check_ratingsno after a set time(day in seconds) and inputs data into your CSV\n",
    "\n",
    "while(True):\n",
    "    check_ratingsno()\n",
    "    time.sleep(86400)"
   ]
  },
  {
   "cell_type": "markdown",
   "id": "a9fc531c",
   "metadata": {},
   "source": [
    "### 4.Build the function to send the daily email"
   ]
  },
  {
   "cell_type": "code",
   "execution_count": null,
   "id": "f23638f3",
   "metadata": {},
   "outputs": [],
   "source": [
    "\n",
    "def send_mail():\n",
    "    server = smtplib.SMTP_SSL('smtp.gmail.com',465)\n",
    "    server.ehlo()\n",
    "    #server.starttls()\n",
    "    server.ehlo()\n",
    "    server.login('omar.banat1996@gmail.com','xxxxxxxxxxxxxx')\n",
    "    \n",
    "    subject = \"Daily update about Amazon Shirt \"\n",
    "    body = \"Omar, This is the daily update about the number or ratings your shirt you got! Link here: https://www.amazon.com/Funny-Data-Systems-Business-Analyst/dp/B07FNW9FGJ/ref=sr_1_3?dchild=1&keywords=data+analyst+tshirt&qid=1626655184&sr=8-3\"\n",
    "   \n",
    "    msg = f\"Subject: {subject}\\n\\n{body}\"\n",
    "    \n",
    "    server.sendmail(\n",
    "        'Omar.banat1996@gmail.com',\n",
    "        msg\n",
    "     \n",
    "    )"
   ]
  }
 ],
 "metadata": {
  "kernelspec": {
   "display_name": "Python 3 (ipykernel)",
   "language": "python",
   "name": "python3"
  },
  "language_info": {
   "codemirror_mode": {
    "name": "ipython",
    "version": 3
   },
   "file_extension": ".py",
   "mimetype": "text/x-python",
   "name": "python",
   "nbconvert_exporter": "python",
   "pygments_lexer": "ipython3",
   "version": "3.9.7"
  }
 },
 "nbformat": 4,
 "nbformat_minor": 5
}
